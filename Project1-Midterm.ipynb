{
 "cells": [
  {
   "cell_type": "markdown",
   "id": "42429e9c",
   "metadata": {},
   "source": [
    "### Define Connection Variables and Functions"
   ]
  },
  {
   "cell_type": "code",
   "execution_count": 1,
   "id": "cbc35ef6",
   "metadata": {},
   "outputs": [],
   "source": [
    "import os\n",
    "import json\n",
    "import numpy\n",
    "import datetime\n",
    "import certifi\n",
    "import pandas as pd\n",
    "\n",
    "import pymongo\n",
    "import sqlalchemy\n",
    "from sqlalchemy import create_engine, text"
   ]
  },
  {
   "cell_type": "markdown",
   "id": "57ca73bf",
   "metadata": {},
   "source": [
    "#### Define Variables for MySQL Server & MongoDB Server"
   ]
  },
  {
   "cell_type": "code",
   "execution_count": 2,
   "id": "90ae456c",
   "metadata": {},
   "outputs": [],
   "source": [
    "host_name = \"localhost\"\n",
    "port = \"3306\"\n",
    "user_id = \"root\"\n",
    "pwd = \"Rosie3402\"\n",
    "\n",
    "src_dbname = \"sakila\"\n",
    "dst_dbname = \"sakila_db\"\n",
    "\n",
    "\n",
    "mysql_args = {\n",
    "    \"uid\" : \"root\",\n",
    "    \"pwd\" : \"Rosie3402\",\n",
    "    \"hostname\" : \"localhost\",\n",
    "    \"user_id\": \"root\",\n",
    "    \"dbname\" : \"sakila\"\n",
    "}\n",
    "\n",
    "# Use when running test queries at the end of the notebook\n",
    "mysql_args_test = {\n",
    "    \"uid\" : \"root\",\n",
    "    \"pwd\" : \"Rosie3402\",\n",
    "    \"hostname\" : \"localhost\",\n",
    "    \"user_id\": \"root\",\n",
    "    \"dbname\" : \"sakila_db\" # Destination database \n",
    "}\n",
    "\n",
    "\n",
    "# The 'cluster_location' must either be \"atlas\" or \"local\".\n",
    "mongodb_args = {\n",
    "    \"user_name\" : \"kelseymatsik\",\n",
    "    \"password\" : \"Rosie3402\",\n",
    "    \"cluster_name\" : \"DevCluster\",\n",
    "    \"cluster_subnet\" : \"ed41k\",\n",
    "    \"cluster_location\" : \"atlas\", # \"local\"\n",
    "    \"db_name\" : \"sakila\"\n",
    "}"
   ]
  },
  {
   "cell_type": "markdown",
   "id": "f209195f",
   "metadata": {},
   "source": [
    "#### Define Functions for Getting Data From and Setting Data Into Databases"
   ]
  },
  {
   "cell_type": "code",
   "execution_count": 3,
   "id": "02423d9d",
   "metadata": {},
   "outputs": [],
   "source": [
    "def get_sql_dataframe(sql_query, **args):\n",
    "    '''Create a connection to the MySQL database'''\n",
    "    conn_str = f\"mysql+pymysql://{args['uid']}:{args['pwd']}@{args['hostname']}/{args['dbname']}\"\n",
    "    sqlEngine = create_engine(conn_str, pool_recycle=3600)\n",
    "    connection = sqlEngine.connect()\n",
    "    \n",
    "    '''Invoke the pd.read_sql() function to query the database, and fill a Pandas DataFrame.'''\n",
    "    dframe = pd.read_sql(text(sql_query), connection);\n",
    "    connection.close()\n",
    "    \n",
    "    return dframe\n",
    "    \n",
    "\n",
    "# def set_dataframe(df, table_name, pk_column, db_operation, **args):\n",
    "#     '''Create a connection to the MySQL database'''\n",
    "#     conn_str = f\"mysql+pymysql://{args['uid']}:{args['pwd']}@{args['hostname']}/{args['dbname']}\" \n",
    "#     sqlEngine = create_engine(conn_str, pool_recycle=3600)\n",
    "#     connection = sqlEngine.connect()\n",
    "    \n",
    "#     # K: Disable foreign key checks \n",
    "#     connection.execute(\"SET foreign_key_checks = 0;\")\n",
    "    \n",
    "#     '''Invoke the Pandas DataFrame .to_sql( ) function to either create, or append to, a table'''\n",
    "#     if db_operation == \"insert\":\n",
    "#         df.to_sql(table_name, con=connection, index=False, if_exists='replace')\n",
    "#         connection.execute(text(f\"ALTER TABLE {table_name} ADD PRIMARY KEY ({pk_column});\"))\n",
    "            \n",
    "#     elif db_operation == \"update\":\n",
    "#         df.to_sql(table_name, con=connection, index=False, if_exists='append')\n",
    "    \n",
    "#     connection.close()\n",
    "def set_dataframe(user_id, pwd, host_name, db_name, df, table_name, pk_column, db_operation):\n",
    "    conn_str = f\"mysql+pymysql://{user_id}:{pwd}@{host_name}/{db_name}\"\n",
    "    sqlEngine = create_engine(conn_str, pool_recycle=3600)\n",
    "    connection = sqlEngine.connect()\n",
    "    \n",
    "    if db_operation == \"insert\":\n",
    "        df.to_sql(table_name, con=connection, index=False, if_exists='replace')\n",
    "        connection.execute(text(f\"ALTER TABLE {table_name} ADD PRIMARY KEY ({pk_column});\"))\n",
    "            \n",
    "    elif db_operation == \"update\":\n",
    "        df.to_sql(table_name, con=connection, index=False, if_exists='append')\n",
    "    \n",
    "    connection.close()\n",
    "\n",
    "\n",
    "def get_mongo_client(**args):\n",
    "    '''Validate proper input'''\n",
    "    if args[\"cluster_location\"] not in ['atlas', 'local']:\n",
    "        raise Exception(\"You must specify either 'atlas' or 'local' for the cluster_location parameter.\")\n",
    "    \n",
    "    else:\n",
    "        if args[\"cluster_location\"] == \"atlas\":\n",
    "            connect_str = f\"mongodb+srv://{args['user_name']}:{args['password']}@\"\n",
    "            connect_str += f\"{args['cluster_name']}.{args['cluster_subnet']}.mongodb.net\"\n",
    "            client = pymongo.MongoClient(connect_str, tlsCAFile=certifi.where())\n",
    "        \n",
    "            \n",
    "        elif args[\"cluster_location\"] == \"local\":\n",
    "            client = pymongo.MongoClient(\"mongodb://localhost:27017/\")\n",
    "        \n",
    "    return client\n",
    "\n",
    "\n",
    "def get_mongo_dataframe(mongo_client, db_name, collection, query):\n",
    "    '''Query MongoDB, and fill a python list with documents to create a DataFrame'''\n",
    "    db = mongo_client[db_name]\n",
    "    dframe = pd.DataFrame(list(db[collection].find(query)))\n",
    "    dframe.drop(['_id'], axis=1, inplace=True)\n",
    "    mongo_client.close()\n",
    "    \n",
    "    return dframe\n",
    "\n",
    "\n",
    "def set_mongo_collections(mongo_client, db_name, data_directory, json_files):\n",
    "    db = mongo_client[db_name]\n",
    "    \n",
    "    for file in json_files:\n",
    "        db.drop_collection(file)\n",
    "        json_file = os.path.join(data_directory, json_files[file])\n",
    "        with open(json_file, 'r') as openfile:\n",
    "            json_object = json.load(openfile)\n",
    "            file = db[file]\n",
    "            result = file.insert_many(json_object)\n",
    "        \n",
    "    mongo_client.close()"
   ]
  },
  {
   "cell_type": "markdown",
   "id": "255889d1",
   "metadata": {},
   "source": [
    "#### Create Destination Data Warehouse (Database)"
   ]
  },
  {
   "cell_type": "code",
   "execution_count": 4,
   "id": "5a4e0f46",
   "metadata": {},
   "outputs": [],
   "source": [
    "conn_str = f\"mysql+pymysql://{user_id}:{pwd}@{host_name}\"\n",
    "sqlEngine = create_engine(conn_str, pool_recycle=3600)\n",
    "connection = sqlEngine.connect()\n",
    "\n",
    "connection.execute(text(f\"DROP DATABASE IF EXISTS `{dst_dbname}`;\"))\n",
    "connection.execute(text(f\"CREATE DATABASE `{dst_dbname}`;\"))\n",
    "connection.execute(text(f\"USE {dst_dbname};\"))\n",
    "\n",
    "connection.close()"
   ]
  },
  {
   "cell_type": "markdown",
   "id": "f3b72f6e",
   "metadata": {},
   "source": [
    "### Get Dimension Tables "
   ]
  },
  {
   "cell_type": "markdown",
   "id": "6a8981bd",
   "metadata": {},
   "source": [
    "#### Extract Data from Local Files "
   ]
  },
  {
   "cell_type": "code",
   "execution_count": 5,
   "id": "d2fea9fa",
   "metadata": {
    "scrolled": true
   },
   "outputs": [
    {
     "data": {
      "text/html": [
       "<div>\n",
       "<style scoped>\n",
       "    .dataframe tbody tr th:only-of-type {\n",
       "        vertical-align: middle;\n",
       "    }\n",
       "\n",
       "    .dataframe tbody tr th {\n",
       "        vertical-align: top;\n",
       "    }\n",
       "\n",
       "    .dataframe thead th {\n",
       "        text-align: right;\n",
       "    }\n",
       "</style>\n",
       "<table border=\"1\" class=\"dataframe\">\n",
       "  <thead>\n",
       "    <tr style=\"text-align: right;\">\n",
       "      <th></th>\n",
       "      <th>actor_id</th>\n",
       "      <th>first_name</th>\n",
       "      <th>last_name</th>\n",
       "      <th>last_update</th>\n",
       "    </tr>\n",
       "  </thead>\n",
       "  <tbody>\n",
       "    <tr>\n",
       "      <th>0</th>\n",
       "      <td>1</td>\n",
       "      <td>PENELOPE</td>\n",
       "      <td>GUINESS</td>\n",
       "      <td>2006-02-15 04:34:33</td>\n",
       "    </tr>\n",
       "    <tr>\n",
       "      <th>1</th>\n",
       "      <td>2</td>\n",
       "      <td>NICK</td>\n",
       "      <td>WAHLBERG</td>\n",
       "      <td>2006-02-15 04:34:33</td>\n",
       "    </tr>\n",
       "  </tbody>\n",
       "</table>\n",
       "</div>"
      ],
      "text/plain": [
       "   actor_id first_name last_name          last_update\n",
       "0         1   PENELOPE   GUINESS  2006-02-15 04:34:33\n",
       "1         2       NICK  WAHLBERG  2006-02-15 04:34:33"
      ]
     },
     "execution_count": 5,
     "metadata": {},
     "output_type": "execute_result"
    }
   ],
   "source": [
    "data_dir = os.path.join(os.getcwd(), \"local_files\")\n",
    "\n",
    "data_file_actor = os.path.join(data_dir, 'actor.csv')\n",
    "\n",
    "df_actor = pd.read_csv(data_file_actor, header=0)\n",
    "df_actor.head(2)"
   ]
  },
  {
   "cell_type": "code",
   "execution_count": 6,
   "id": "64d04a84",
   "metadata": {
    "scrolled": false
   },
   "outputs": [
    {
     "data": {
      "text/html": [
       "<div>\n",
       "<style scoped>\n",
       "    .dataframe tbody tr th:only-of-type {\n",
       "        vertical-align: middle;\n",
       "    }\n",
       "\n",
       "    .dataframe tbody tr th {\n",
       "        vertical-align: top;\n",
       "    }\n",
       "\n",
       "    .dataframe thead th {\n",
       "        text-align: right;\n",
       "    }\n",
       "</style>\n",
       "<table border=\"1\" class=\"dataframe\">\n",
       "  <thead>\n",
       "    <tr style=\"text-align: right;\">\n",
       "      <th></th>\n",
       "      <th>address_id</th>\n",
       "      <th>address</th>\n",
       "      <th>address2</th>\n",
       "      <th>district</th>\n",
       "      <th>city_id</th>\n",
       "      <th>postal_code</th>\n",
       "      <th>phone</th>\n",
       "      <th>location</th>\n",
       "      <th>last_update</th>\n",
       "    </tr>\n",
       "  </thead>\n",
       "  <tbody>\n",
       "    <tr>\n",
       "      <th>0</th>\n",
       "      <td>1</td>\n",
       "      <td>47 MySakila Drive</td>\n",
       "      <td>NaN</td>\n",
       "      <td>Alberta</td>\n",
       "      <td>300</td>\n",
       "      <td>NaN</td>\n",
       "      <td>NaN</td>\n",
       "      <td>...</td>\n",
       "      <td>2014-09-25 22:30:27</td>\n",
       "    </tr>\n",
       "    <tr>\n",
       "      <th>1</th>\n",
       "      <td>2</td>\n",
       "      <td>28 MySQL Boulevard</td>\n",
       "      <td>NaN</td>\n",
       "      <td>QLD</td>\n",
       "      <td>576</td>\n",
       "      <td>NaN</td>\n",
       "      <td>NaN</td>\n",
       "      <td>...</td>\n",
       "      <td>2014-09-25 22:30:09</td>\n",
       "    </tr>\n",
       "  </tbody>\n",
       "</table>\n",
       "</div>"
      ],
      "text/plain": [
       "   address_id             address  address2 district  city_id  postal_code  \\\n",
       "0           1   47 MySakila Drive       NaN  Alberta      300          NaN   \n",
       "1           2  28 MySQL Boulevard       NaN      QLD      576          NaN   \n",
       "\n",
       "   phone location          last_update  \n",
       "0    NaN      ...  2014-09-25 22:30:27  \n",
       "1    NaN      ...  2014-09-25 22:30:09  "
      ]
     },
     "execution_count": 6,
     "metadata": {},
     "output_type": "execute_result"
    }
   ],
   "source": [
    "data_file_address = os.path.join(data_dir, 'address.csv')\n",
    "\n",
    "df_address = pd.read_csv(data_file_address, header=0)\n",
    "df_address.head(2)"
   ]
  },
  {
   "cell_type": "markdown",
   "id": "826a1a4c",
   "metadata": {},
   "source": [
    "#### Extract Data from MongoDB"
   ]
  },
  {
   "cell_type": "markdown",
   "id": "2173b4f0",
   "metadata": {},
   "source": [
    "First, populate MongoDB with source data.       "
   ]
  },
  {
   "cell_type": "code",
   "execution_count": null,
   "id": "e59fdfdc",
   "metadata": {},
   "outputs": [],
   "source": [
    "client = get_mongo_client(**mongodb_args)\n",
    "\n",
    "# Gets the path of the Current Working Directory for this Notebook,\n",
    "# and then appends the 'data' directory\n",
    "data_dir = os.path.join(os.getcwd(), \"mongodb_files\")\n",
    "\n",
    "json_files = {\"category\": \"category.json\", \n",
    "              \"city\": \"city.json\"}\n",
    "\n",
    "set_mongo_collections(client, mongodb_args[\"db_name\"], data_dir, json_files)   "
   ]
  },
  {
   "cell_type": "markdown",
   "id": "0e5f64d4",
   "metadata": {},
   "source": [
    "Then, retrieve data from MongoDB. "
   ]
  },
  {
   "cell_type": "code",
   "execution_count": 18,
   "id": "0b31dd10",
   "metadata": {
    "scrolled": true
   },
   "outputs": [
    {
     "data": {
      "text/html": [
       "<div>\n",
       "<style scoped>\n",
       "    .dataframe tbody tr th:only-of-type {\n",
       "        vertical-align: middle;\n",
       "    }\n",
       "\n",
       "    .dataframe tbody tr th {\n",
       "        vertical-align: top;\n",
       "    }\n",
       "\n",
       "    .dataframe thead th {\n",
       "        text-align: right;\n",
       "    }\n",
       "</style>\n",
       "<table border=\"1\" class=\"dataframe\">\n",
       "  <thead>\n",
       "    <tr style=\"text-align: right;\">\n",
       "      <th></th>\n",
       "      <th>category_id</th>\n",
       "      <th>name</th>\n",
       "      <th>last_update</th>\n",
       "    </tr>\n",
       "  </thead>\n",
       "  <tbody>\n",
       "    <tr>\n",
       "      <th>0</th>\n",
       "      <td>1</td>\n",
       "      <td>Action</td>\n",
       "      <td>2006-02-15 04:46:27</td>\n",
       "    </tr>\n",
       "    <tr>\n",
       "      <th>1</th>\n",
       "      <td>2</td>\n",
       "      <td>Animation</td>\n",
       "      <td>2006-02-15 04:46:27</td>\n",
       "    </tr>\n",
       "  </tbody>\n",
       "</table>\n",
       "</div>"
      ],
      "text/plain": [
       "   category_id       name          last_update\n",
       "0            1     Action  2006-02-15 04:46:27\n",
       "1            2  Animation  2006-02-15 04:46:27"
      ]
     },
     "execution_count": 18,
     "metadata": {},
     "output_type": "execute_result"
    }
   ],
   "source": [
    "# Category \n",
    "client = get_mongo_client(**mongodb_args)\n",
    "\n",
    "query = {} # Select all elements (columns), and all documents (rows).\n",
    "collection = \"category\"\n",
    "\n",
    "df_category = get_mongo_dataframe(client, mongodb_args[\"db_name\"], collection, query)\n",
    "df_category.head(2)"
   ]
  },
  {
   "cell_type": "code",
   "execution_count": 19,
   "id": "91f44249",
   "metadata": {},
   "outputs": [
    {
     "data": {
      "text/html": [
       "<div>\n",
       "<style scoped>\n",
       "    .dataframe tbody tr th:only-of-type {\n",
       "        vertical-align: middle;\n",
       "    }\n",
       "\n",
       "    .dataframe tbody tr th {\n",
       "        vertical-align: top;\n",
       "    }\n",
       "\n",
       "    .dataframe thead th {\n",
       "        text-align: right;\n",
       "    }\n",
       "</style>\n",
       "<table border=\"1\" class=\"dataframe\">\n",
       "  <thead>\n",
       "    <tr style=\"text-align: right;\">\n",
       "      <th></th>\n",
       "      <th>city_id</th>\n",
       "      <th>city</th>\n",
       "      <th>country_id</th>\n",
       "      <th>last_update</th>\n",
       "    </tr>\n",
       "  </thead>\n",
       "  <tbody>\n",
       "    <tr>\n",
       "      <th>0</th>\n",
       "      <td>1</td>\n",
       "      <td>A Coruña (La Coruña)</td>\n",
       "      <td>87</td>\n",
       "      <td>2006-02-15 04:45:25</td>\n",
       "    </tr>\n",
       "    <tr>\n",
       "      <th>1</th>\n",
       "      <td>2</td>\n",
       "      <td>Abha</td>\n",
       "      <td>82</td>\n",
       "      <td>2006-02-15 04:45:25</td>\n",
       "    </tr>\n",
       "  </tbody>\n",
       "</table>\n",
       "</div>"
      ],
      "text/plain": [
       "   city_id                  city  country_id          last_update\n",
       "0        1  A Coruña (La Coruña)          87  2006-02-15 04:45:25\n",
       "1        2                  Abha          82  2006-02-15 04:45:25"
      ]
     },
     "execution_count": 19,
     "metadata": {},
     "output_type": "execute_result"
    }
   ],
   "source": [
    "# City\n",
    "client = get_mongo_client(**mongodb_args)\n",
    "\n",
    "query = {} # Select all elements (columns), and all documents (rows).\n",
    "collection = \"city\"\n",
    "\n",
    "df_city = get_mongo_dataframe(client, mongodb_args[\"db_name\"], collection, query)\n",
    "df_city.head(2)"
   ]
  },
  {
   "cell_type": "markdown",
   "id": "bb39aa2b",
   "metadata": {},
   "source": [
    "#### Extract Data from Source Database (SQL Workbench) "
   ]
  },
  {
   "cell_type": "code",
   "execution_count": 7,
   "id": "74587881",
   "metadata": {
    "scrolled": true
   },
   "outputs": [
    {
     "data": {
      "text/html": [
       "<div>\n",
       "<style scoped>\n",
       "    .dataframe tbody tr th:only-of-type {\n",
       "        vertical-align: middle;\n",
       "    }\n",
       "\n",
       "    .dataframe tbody tr th {\n",
       "        vertical-align: top;\n",
       "    }\n",
       "\n",
       "    .dataframe thead th {\n",
       "        text-align: right;\n",
       "    }\n",
       "</style>\n",
       "<table border=\"1\" class=\"dataframe\">\n",
       "  <thead>\n",
       "    <tr style=\"text-align: right;\">\n",
       "      <th></th>\n",
       "      <th>country_id</th>\n",
       "      <th>country</th>\n",
       "      <th>last_update</th>\n",
       "    </tr>\n",
       "  </thead>\n",
       "  <tbody>\n",
       "    <tr>\n",
       "      <th>0</th>\n",
       "      <td>1</td>\n",
       "      <td>Afghanistan</td>\n",
       "      <td>2006-02-15 04:44:00</td>\n",
       "    </tr>\n",
       "    <tr>\n",
       "      <th>1</th>\n",
       "      <td>2</td>\n",
       "      <td>Algeria</td>\n",
       "      <td>2006-02-15 04:44:00</td>\n",
       "    </tr>\n",
       "  </tbody>\n",
       "</table>\n",
       "</div>"
      ],
      "text/plain": [
       "   country_id      country         last_update\n",
       "0           1  Afghanistan 2006-02-15 04:44:00\n",
       "1           2      Algeria 2006-02-15 04:44:00"
      ]
     },
     "execution_count": 7,
     "metadata": {},
     "output_type": "execute_result"
    }
   ],
   "source": [
    "sql_country = \"SELECT * FROM sakila.country;\"\n",
    "df_country = get_sql_dataframe(sql_country, **mysql_args)\n",
    "df_country.head(2)"
   ]
  },
  {
   "cell_type": "code",
   "execution_count": 8,
   "id": "f8f17f60",
   "metadata": {
    "scrolled": true
   },
   "outputs": [
    {
     "data": {
      "text/html": [
       "<div>\n",
       "<style scoped>\n",
       "    .dataframe tbody tr th:only-of-type {\n",
       "        vertical-align: middle;\n",
       "    }\n",
       "\n",
       "    .dataframe tbody tr th {\n",
       "        vertical-align: top;\n",
       "    }\n",
       "\n",
       "    .dataframe thead th {\n",
       "        text-align: right;\n",
       "    }\n",
       "</style>\n",
       "<table border=\"1\" class=\"dataframe\">\n",
       "  <thead>\n",
       "    <tr style=\"text-align: right;\">\n",
       "      <th></th>\n",
       "      <th>customer_id</th>\n",
       "      <th>store_id</th>\n",
       "      <th>first_name</th>\n",
       "      <th>last_name</th>\n",
       "      <th>email</th>\n",
       "      <th>address_id</th>\n",
       "      <th>active</th>\n",
       "      <th>create_date</th>\n",
       "      <th>last_update</th>\n",
       "    </tr>\n",
       "  </thead>\n",
       "  <tbody>\n",
       "    <tr>\n",
       "      <th>0</th>\n",
       "      <td>1</td>\n",
       "      <td>1</td>\n",
       "      <td>MARY</td>\n",
       "      <td>SMITH</td>\n",
       "      <td>MARY.SMITH@sakilacustomer.org</td>\n",
       "      <td>5</td>\n",
       "      <td>1</td>\n",
       "      <td>2006-02-14 22:04:36</td>\n",
       "      <td>2006-02-15 04:57:20</td>\n",
       "    </tr>\n",
       "    <tr>\n",
       "      <th>1</th>\n",
       "      <td>2</td>\n",
       "      <td>1</td>\n",
       "      <td>PATRICIA</td>\n",
       "      <td>JOHNSON</td>\n",
       "      <td>PATRICIA.JOHNSON@sakilacustomer.org</td>\n",
       "      <td>6</td>\n",
       "      <td>1</td>\n",
       "      <td>2006-02-14 22:04:36</td>\n",
       "      <td>2006-02-15 04:57:20</td>\n",
       "    </tr>\n",
       "  </tbody>\n",
       "</table>\n",
       "</div>"
      ],
      "text/plain": [
       "   customer_id  store_id first_name last_name  \\\n",
       "0            1         1       MARY     SMITH   \n",
       "1            2         1   PATRICIA   JOHNSON   \n",
       "\n",
       "                                 email  address_id  active  \\\n",
       "0        MARY.SMITH@sakilacustomer.org           5       1   \n",
       "1  PATRICIA.JOHNSON@sakilacustomer.org           6       1   \n",
       "\n",
       "          create_date         last_update  \n",
       "0 2006-02-14 22:04:36 2006-02-15 04:57:20  \n",
       "1 2006-02-14 22:04:36 2006-02-15 04:57:20  "
      ]
     },
     "execution_count": 8,
     "metadata": {},
     "output_type": "execute_result"
    }
   ],
   "source": [
    "sql_customer = \"SELECT * FROM sakila.customer;\"\n",
    "df_customer = get_sql_dataframe(sql_customer, **mysql_args)\n",
    "df_customer.head(2)"
   ]
  },
  {
   "cell_type": "code",
   "execution_count": 9,
   "id": "67793a14",
   "metadata": {},
   "outputs": [
    {
     "data": {
      "text/html": [
       "<div>\n",
       "<style scoped>\n",
       "    .dataframe tbody tr th:only-of-type {\n",
       "        vertical-align: middle;\n",
       "    }\n",
       "\n",
       "    .dataframe tbody tr th {\n",
       "        vertical-align: top;\n",
       "    }\n",
       "\n",
       "    .dataframe thead th {\n",
       "        text-align: right;\n",
       "    }\n",
       "</style>\n",
       "<table border=\"1\" class=\"dataframe\">\n",
       "  <thead>\n",
       "    <tr style=\"text-align: right;\">\n",
       "      <th></th>\n",
       "      <th>film_id</th>\n",
       "      <th>title</th>\n",
       "      <th>description</th>\n",
       "      <th>release_year</th>\n",
       "      <th>language_id</th>\n",
       "      <th>original_language_id</th>\n",
       "      <th>rental_duration</th>\n",
       "      <th>rental_rate</th>\n",
       "      <th>length</th>\n",
       "      <th>replacement_cost</th>\n",
       "      <th>rating</th>\n",
       "      <th>special_features</th>\n",
       "      <th>last_update</th>\n",
       "    </tr>\n",
       "  </thead>\n",
       "  <tbody>\n",
       "    <tr>\n",
       "      <th>0</th>\n",
       "      <td>1</td>\n",
       "      <td>ACADEMY DINOSAUR</td>\n",
       "      <td>A Epic Drama of a Feminist And a Mad Scientist...</td>\n",
       "      <td>2006</td>\n",
       "      <td>1</td>\n",
       "      <td>None</td>\n",
       "      <td>6</td>\n",
       "      <td>0.99</td>\n",
       "      <td>86</td>\n",
       "      <td>20.99</td>\n",
       "      <td>PG</td>\n",
       "      <td>Deleted Scenes,Behind the Scenes</td>\n",
       "      <td>2006-02-15 05:03:42</td>\n",
       "    </tr>\n",
       "    <tr>\n",
       "      <th>1</th>\n",
       "      <td>2</td>\n",
       "      <td>ACE GOLDFINGER</td>\n",
       "      <td>A Astounding Epistle of a Database Administrat...</td>\n",
       "      <td>2006</td>\n",
       "      <td>1</td>\n",
       "      <td>None</td>\n",
       "      <td>3</td>\n",
       "      <td>4.99</td>\n",
       "      <td>48</td>\n",
       "      <td>12.99</td>\n",
       "      <td>G</td>\n",
       "      <td>Trailers,Deleted Scenes</td>\n",
       "      <td>2006-02-15 05:03:42</td>\n",
       "    </tr>\n",
       "  </tbody>\n",
       "</table>\n",
       "</div>"
      ],
      "text/plain": [
       "   film_id             title  \\\n",
       "0        1  ACADEMY DINOSAUR   \n",
       "1        2    ACE GOLDFINGER   \n",
       "\n",
       "                                         description  release_year  \\\n",
       "0  A Epic Drama of a Feminist And a Mad Scientist...          2006   \n",
       "1  A Astounding Epistle of a Database Administrat...          2006   \n",
       "\n",
       "   language_id original_language_id  rental_duration  rental_rate  length  \\\n",
       "0            1                 None                6         0.99      86   \n",
       "1            1                 None                3         4.99      48   \n",
       "\n",
       "   replacement_cost rating                  special_features  \\\n",
       "0             20.99     PG  Deleted Scenes,Behind the Scenes   \n",
       "1             12.99      G           Trailers,Deleted Scenes   \n",
       "\n",
       "          last_update  \n",
       "0 2006-02-15 05:03:42  \n",
       "1 2006-02-15 05:03:42  "
      ]
     },
     "execution_count": 9,
     "metadata": {},
     "output_type": "execute_result"
    }
   ],
   "source": [
    "sql_film = \"SELECT * FROM sakila.film;\"\n",
    "df_film = get_sql_dataframe(sql_film, **mysql_args)\n",
    "df_film.head(2)"
   ]
  },
  {
   "cell_type": "code",
   "execution_count": 10,
   "id": "3d76f9e3",
   "metadata": {
    "scrolled": false
   },
   "outputs": [
    {
     "data": {
      "text/html": [
       "<div>\n",
       "<style scoped>\n",
       "    .dataframe tbody tr th:only-of-type {\n",
       "        vertical-align: middle;\n",
       "    }\n",
       "\n",
       "    .dataframe tbody tr th {\n",
       "        vertical-align: top;\n",
       "    }\n",
       "\n",
       "    .dataframe thead th {\n",
       "        text-align: right;\n",
       "    }\n",
       "</style>\n",
       "<table border=\"1\" class=\"dataframe\">\n",
       "  <thead>\n",
       "    <tr style=\"text-align: right;\">\n",
       "      <th></th>\n",
       "      <th>actor_id</th>\n",
       "      <th>film_id</th>\n",
       "      <th>last_update</th>\n",
       "    </tr>\n",
       "  </thead>\n",
       "  <tbody>\n",
       "    <tr>\n",
       "      <th>0</th>\n",
       "      <td>1</td>\n",
       "      <td>1</td>\n",
       "      <td>2006-02-15 05:05:03</td>\n",
       "    </tr>\n",
       "    <tr>\n",
       "      <th>1</th>\n",
       "      <td>1</td>\n",
       "      <td>23</td>\n",
       "      <td>2006-02-15 05:05:03</td>\n",
       "    </tr>\n",
       "  </tbody>\n",
       "</table>\n",
       "</div>"
      ],
      "text/plain": [
       "   actor_id  film_id         last_update\n",
       "0         1        1 2006-02-15 05:05:03\n",
       "1         1       23 2006-02-15 05:05:03"
      ]
     },
     "execution_count": 10,
     "metadata": {},
     "output_type": "execute_result"
    }
   ],
   "source": [
    "sql_film_actor = \"SELECT * FROM sakila.film_actor;\"\n",
    "df_film_actor = get_sql_dataframe(sql_film_actor, **mysql_args)\n",
    "df_film_actor.head(2)"
   ]
  },
  {
   "cell_type": "code",
   "execution_count": 11,
   "id": "62c870e2",
   "metadata": {
    "scrolled": false
   },
   "outputs": [
    {
     "data": {
      "text/html": [
       "<div>\n",
       "<style scoped>\n",
       "    .dataframe tbody tr th:only-of-type {\n",
       "        vertical-align: middle;\n",
       "    }\n",
       "\n",
       "    .dataframe tbody tr th {\n",
       "        vertical-align: top;\n",
       "    }\n",
       "\n",
       "    .dataframe thead th {\n",
       "        text-align: right;\n",
       "    }\n",
       "</style>\n",
       "<table border=\"1\" class=\"dataframe\">\n",
       "  <thead>\n",
       "    <tr style=\"text-align: right;\">\n",
       "      <th></th>\n",
       "      <th>film_id</th>\n",
       "      <th>category_id</th>\n",
       "      <th>last_update</th>\n",
       "    </tr>\n",
       "  </thead>\n",
       "  <tbody>\n",
       "    <tr>\n",
       "      <th>0</th>\n",
       "      <td>1</td>\n",
       "      <td>6</td>\n",
       "      <td>2006-02-15 05:07:09</td>\n",
       "    </tr>\n",
       "    <tr>\n",
       "      <th>1</th>\n",
       "      <td>2</td>\n",
       "      <td>11</td>\n",
       "      <td>2006-02-15 05:07:09</td>\n",
       "    </tr>\n",
       "  </tbody>\n",
       "</table>\n",
       "</div>"
      ],
      "text/plain": [
       "   film_id  category_id         last_update\n",
       "0        1            6 2006-02-15 05:07:09\n",
       "1        2           11 2006-02-15 05:07:09"
      ]
     },
     "execution_count": 11,
     "metadata": {},
     "output_type": "execute_result"
    }
   ],
   "source": [
    "sql_film_category = \"SELECT * FROM sakila.film_category;\"\n",
    "df_film_category = get_sql_dataframe(sql_film_category, **mysql_args)\n",
    "df_film_category.head(2)"
   ]
  },
  {
   "cell_type": "code",
   "execution_count": 12,
   "id": "1679facf",
   "metadata": {},
   "outputs": [
    {
     "data": {
      "text/html": [
       "<div>\n",
       "<style scoped>\n",
       "    .dataframe tbody tr th:only-of-type {\n",
       "        vertical-align: middle;\n",
       "    }\n",
       "\n",
       "    .dataframe tbody tr th {\n",
       "        vertical-align: top;\n",
       "    }\n",
       "\n",
       "    .dataframe thead th {\n",
       "        text-align: right;\n",
       "    }\n",
       "</style>\n",
       "<table border=\"1\" class=\"dataframe\">\n",
       "  <thead>\n",
       "    <tr style=\"text-align: right;\">\n",
       "      <th></th>\n",
       "      <th>staff_id</th>\n",
       "      <th>first_name</th>\n",
       "      <th>last_name</th>\n",
       "      <th>address_id</th>\n",
       "      <th>picture</th>\n",
       "      <th>email</th>\n",
       "      <th>store_id</th>\n",
       "      <th>active</th>\n",
       "      <th>username</th>\n",
       "      <th>password</th>\n",
       "      <th>last_update</th>\n",
       "    </tr>\n",
       "  </thead>\n",
       "  <tbody>\n",
       "    <tr>\n",
       "      <th>0</th>\n",
       "      <td>1</td>\n",
       "      <td>Mike</td>\n",
       "      <td>Hillyer</td>\n",
       "      <td>3</td>\n",
       "      <td>b'\\x89PNG\\r\\n\\x1a\\n\\x00\\x00\\x00\\rIHDR\\x00\\x00\\...</td>\n",
       "      <td>Mike.Hillyer@sakilastaff.com</td>\n",
       "      <td>1</td>\n",
       "      <td>1</td>\n",
       "      <td>Mike</td>\n",
       "      <td>8cb2237d0679ca88db6464eac60da96345513964</td>\n",
       "      <td>2006-02-15 03:57:16</td>\n",
       "    </tr>\n",
       "    <tr>\n",
       "      <th>1</th>\n",
       "      <td>2</td>\n",
       "      <td>Jon</td>\n",
       "      <td>Stephens</td>\n",
       "      <td>4</td>\n",
       "      <td>None</td>\n",
       "      <td>Jon.Stephens@sakilastaff.com</td>\n",
       "      <td>2</td>\n",
       "      <td>1</td>\n",
       "      <td>Jon</td>\n",
       "      <td>None</td>\n",
       "      <td>2006-02-15 03:57:16</td>\n",
       "    </tr>\n",
       "  </tbody>\n",
       "</table>\n",
       "</div>"
      ],
      "text/plain": [
       "   staff_id first_name last_name  address_id  \\\n",
       "0         1       Mike   Hillyer           3   \n",
       "1         2        Jon  Stephens           4   \n",
       "\n",
       "                                             picture  \\\n",
       "0  b'\\x89PNG\\r\\n\\x1a\\n\\x00\\x00\\x00\\rIHDR\\x00\\x00\\...   \n",
       "1                                               None   \n",
       "\n",
       "                          email  store_id  active username  \\\n",
       "0  Mike.Hillyer@sakilastaff.com         1       1     Mike   \n",
       "1  Jon.Stephens@sakilastaff.com         2       1      Jon   \n",
       "\n",
       "                                   password         last_update  \n",
       "0  8cb2237d0679ca88db6464eac60da96345513964 2006-02-15 03:57:16  \n",
       "1                                      None 2006-02-15 03:57:16  "
      ]
     },
     "execution_count": 12,
     "metadata": {},
     "output_type": "execute_result"
    }
   ],
   "source": [
    "sql_staff = \"SELECT * FROM sakila.staff;\"\n",
    "df_staff = get_sql_dataframe(sql_staff, **mysql_args)\n",
    "df_staff.head(2)"
   ]
  },
  {
   "cell_type": "code",
   "execution_count": null,
   "id": "f81b03a8",
   "metadata": {
    "scrolled": true
   },
   "outputs": [],
   "source": [
    "## EXTRA\n",
    "# sql_film_text = \"SELECT * FROM sakila.film_text;\"\n",
    "# df_film_text = get_sql_dataframe(sql_film_text, **mysql_args)\n",
    "# df_film_text.head(2)"
   ]
  },
  {
   "cell_type": "code",
   "execution_count": null,
   "id": "80a63614",
   "metadata": {},
   "outputs": [],
   "source": [
    "## EXTRA\n",
    "# sql_language = \"SELECT * FROM sakila.language;\"\n",
    "# df_language = get_sql_dataframe(sql_language, **mysql_args)\n",
    "# df_language.head(2)"
   ]
  },
  {
   "cell_type": "code",
   "execution_count": null,
   "id": "5bf1f888",
   "metadata": {},
   "outputs": [],
   "source": [
    "## EXTRA \n",
    "## Contains redundant / unnecessary info that 'staff' table already has\n",
    "# sql_store = \"SELECT * FROM sakila.store;\"\n",
    "# df_store = get_sql_dataframe(sql_store, **mysql_args)\n",
    "# df_store.head(2)"
   ]
  },
  {
   "cell_type": "markdown",
   "id": "782ad89e",
   "metadata": {},
   "source": [
    "### Create the Date Dimension Table\n",
    "Execute the SQL Script from Lab2c that creates and populates a Date Dimension table. "
   ]
  },
  {
   "cell_type": "markdown",
   "id": "19e16294",
   "metadata": {},
   "source": [
    "### Perform Neccessary Transformations "
   ]
  },
  {
   "cell_type": "markdown",
   "id": "05986ead",
   "metadata": {},
   "source": [
    "#### Check for Missing Values"
   ]
  },
  {
   "cell_type": "code",
   "execution_count": null,
   "id": "5c6f098b",
   "metadata": {},
   "outputs": [],
   "source": [
    "df_actor.isna().sum() / len(df_actor)"
   ]
  },
  {
   "cell_type": "code",
   "execution_count": null,
   "id": "a6da0e30",
   "metadata": {
    "scrolled": true
   },
   "outputs": [],
   "source": [
    "df_address.isna().sum() / len(df_address)\n",
    "\n",
    "# Address2 has some missing values, but this makes sense because not all \n",
    "# addresses will have a second address line "
   ]
  },
  {
   "cell_type": "code",
   "execution_count": null,
   "id": "867c167a",
   "metadata": {},
   "outputs": [],
   "source": [
    "df_category.isna().sum() / len(df_category)"
   ]
  },
  {
   "cell_type": "code",
   "execution_count": null,
   "id": "158cb43f",
   "metadata": {},
   "outputs": [],
   "source": [
    "df_city.isna().sum() / len(df_city)"
   ]
  },
  {
   "cell_type": "code",
   "execution_count": null,
   "id": "2180743f",
   "metadata": {
    "scrolled": true
   },
   "outputs": [],
   "source": [
    "df_country.isna().sum() / len(df_country)"
   ]
  },
  {
   "cell_type": "code",
   "execution_count": null,
   "id": "34a17840",
   "metadata": {},
   "outputs": [],
   "source": [
    "df_customer.isna().sum() / len(df_customer)"
   ]
  },
  {
   "cell_type": "code",
   "execution_count": 20,
   "id": "1d41ed40",
   "metadata": {},
   "outputs": [
    {
     "name": "stdout",
     "output_type": "stream",
     "text": [
      "film_id                 0.0\n",
      "title                   0.0\n",
      "description             0.0\n",
      "release_year            0.0\n",
      "language_id             0.0\n",
      "original_language_id    1.0\n",
      "rental_duration         0.0\n",
      "rental_rate             0.0\n",
      "length                  0.0\n",
      "replacement_cost        0.0\n",
      "rating                  0.0\n",
      "special_features        0.0\n",
      "last_update             0.0\n",
      "dtype: float64\n"
     ]
    }
   ],
   "source": [
    "print(df_film.isna().sum() / len(df_film))\n",
    "\n",
    "# Inspect missing values\n",
    "df_film.head(2)\n",
    "\n",
    "# Original_language_id has 100% missing values, so we'll drop this column \n",
    "df_film.drop([\"original_language_id\"], axis = 1, inplace = True)"
   ]
  },
  {
   "cell_type": "code",
   "execution_count": 21,
   "id": "e0070e76",
   "metadata": {},
   "outputs": [
    {
     "data": {
      "text/plain": [
       "actor_id       0.0\n",
       "film_id        0.0\n",
       "last_update    0.0\n",
       "dtype: float64"
      ]
     },
     "execution_count": 21,
     "metadata": {},
     "output_type": "execute_result"
    }
   ],
   "source": [
    "df_film_actor.isna().sum() / len(df_film_actor)"
   ]
  },
  {
   "cell_type": "code",
   "execution_count": 22,
   "id": "5134eb36",
   "metadata": {},
   "outputs": [
    {
     "data": {
      "text/plain": [
       "film_id        0.0\n",
       "category_id    0.0\n",
       "last_update    0.0\n",
       "dtype: float64"
      ]
     },
     "execution_count": 22,
     "metadata": {},
     "output_type": "execute_result"
    }
   ],
   "source": [
    "df_film_category.isna().sum() / len(df_film_category)"
   ]
  },
  {
   "cell_type": "code",
   "execution_count": 23,
   "id": "28362cef",
   "metadata": {},
   "outputs": [
    {
     "data": {
      "text/plain": [
       "staff_id       0.0\n",
       "first_name     0.0\n",
       "last_name      0.0\n",
       "address_id     0.0\n",
       "picture        0.5\n",
       "email          0.0\n",
       "store_id       0.0\n",
       "active         0.0\n",
       "username       0.0\n",
       "password       0.5\n",
       "last_update    0.0\n",
       "dtype: float64"
      ]
     },
     "execution_count": 23,
     "metadata": {},
     "output_type": "execute_result"
    }
   ],
   "source": [
    "df_staff.isna().sum() / len(df_staff)\n",
    "# Picture has 50% missing value; we'll drop it below"
   ]
  },
  {
   "cell_type": "markdown",
   "id": "b7d9c66c",
   "metadata": {},
   "source": [
    "#### Drop Any Unncessary Columns "
   ]
  },
  {
   "cell_type": "code",
   "execution_count": 24,
   "id": "75f7675d",
   "metadata": {},
   "outputs": [
    {
     "data": {
      "text/html": [
       "<div>\n",
       "<style scoped>\n",
       "    .dataframe tbody tr th:only-of-type {\n",
       "        vertical-align: middle;\n",
       "    }\n",
       "\n",
       "    .dataframe tbody tr th {\n",
       "        vertical-align: top;\n",
       "    }\n",
       "\n",
       "    .dataframe thead th {\n",
       "        text-align: right;\n",
       "    }\n",
       "</style>\n",
       "<table border=\"1\" class=\"dataframe\">\n",
       "  <thead>\n",
       "    <tr style=\"text-align: right;\">\n",
       "      <th></th>\n",
       "      <th>actor_id</th>\n",
       "      <th>first_name</th>\n",
       "      <th>last_name</th>\n",
       "    </tr>\n",
       "  </thead>\n",
       "  <tbody>\n",
       "    <tr>\n",
       "      <th>0</th>\n",
       "      <td>1</td>\n",
       "      <td>PENELOPE</td>\n",
       "      <td>GUINESS</td>\n",
       "    </tr>\n",
       "    <tr>\n",
       "      <th>1</th>\n",
       "      <td>2</td>\n",
       "      <td>NICK</td>\n",
       "      <td>WAHLBERG</td>\n",
       "    </tr>\n",
       "  </tbody>\n",
       "</table>\n",
       "</div>"
      ],
      "text/plain": [
       "   actor_id first_name last_name\n",
       "0         1   PENELOPE   GUINESS\n",
       "1         2       NICK  WAHLBERG"
      ]
     },
     "execution_count": 24,
     "metadata": {},
     "output_type": "execute_result"
    }
   ],
   "source": [
    "df_actor.drop([\"last_update\"], axis=1, inplace=True)\n",
    "df_actor.head(2)"
   ]
  },
  {
   "cell_type": "code",
   "execution_count": 25,
   "id": "1f6d5791",
   "metadata": {},
   "outputs": [
    {
     "data": {
      "text/html": [
       "<div>\n",
       "<style scoped>\n",
       "    .dataframe tbody tr th:only-of-type {\n",
       "        vertical-align: middle;\n",
       "    }\n",
       "\n",
       "    .dataframe tbody tr th {\n",
       "        vertical-align: top;\n",
       "    }\n",
       "\n",
       "    .dataframe thead th {\n",
       "        text-align: right;\n",
       "    }\n",
       "</style>\n",
       "<table border=\"1\" class=\"dataframe\">\n",
       "  <thead>\n",
       "    <tr style=\"text-align: right;\">\n",
       "      <th></th>\n",
       "      <th>address_id</th>\n",
       "      <th>address</th>\n",
       "      <th>address2</th>\n",
       "      <th>district</th>\n",
       "      <th>city_id</th>\n",
       "    </tr>\n",
       "  </thead>\n",
       "  <tbody>\n",
       "    <tr>\n",
       "      <th>0</th>\n",
       "      <td>1</td>\n",
       "      <td>47 MySakila Drive</td>\n",
       "      <td>NaN</td>\n",
       "      <td>Alberta</td>\n",
       "      <td>300</td>\n",
       "    </tr>\n",
       "    <tr>\n",
       "      <th>1</th>\n",
       "      <td>2</td>\n",
       "      <td>28 MySQL Boulevard</td>\n",
       "      <td>NaN</td>\n",
       "      <td>QLD</td>\n",
       "      <td>576</td>\n",
       "    </tr>\n",
       "  </tbody>\n",
       "</table>\n",
       "</div>"
      ],
      "text/plain": [
       "   address_id             address  address2 district  city_id\n",
       "0           1   47 MySakila Drive       NaN  Alberta      300\n",
       "1           2  28 MySQL Boulevard       NaN      QLD      576"
      ]
     },
     "execution_count": 25,
     "metadata": {},
     "output_type": "execute_result"
    }
   ],
   "source": [
    "df_address[[\"phone\", \"location\", \"postal_code\"]].head(2)\n",
    "df_address.drop([\"phone\", \"location\", \"postal_code\", \"last_update\"], axis=1, inplace=True)\n",
    "df_address.head(2)"
   ]
  },
  {
   "cell_type": "code",
   "execution_count": 26,
   "id": "e68108c5",
   "metadata": {
    "scrolled": true
   },
   "outputs": [
    {
     "data": {
      "text/html": [
       "<div>\n",
       "<style scoped>\n",
       "    .dataframe tbody tr th:only-of-type {\n",
       "        vertical-align: middle;\n",
       "    }\n",
       "\n",
       "    .dataframe tbody tr th {\n",
       "        vertical-align: top;\n",
       "    }\n",
       "\n",
       "    .dataframe thead th {\n",
       "        text-align: right;\n",
       "    }\n",
       "</style>\n",
       "<table border=\"1\" class=\"dataframe\">\n",
       "  <thead>\n",
       "    <tr style=\"text-align: right;\">\n",
       "      <th></th>\n",
       "      <th>category_id</th>\n",
       "      <th>name</th>\n",
       "    </tr>\n",
       "  </thead>\n",
       "  <tbody>\n",
       "    <tr>\n",
       "      <th>0</th>\n",
       "      <td>1</td>\n",
       "      <td>Action</td>\n",
       "    </tr>\n",
       "    <tr>\n",
       "      <th>1</th>\n",
       "      <td>2</td>\n",
       "      <td>Animation</td>\n",
       "    </tr>\n",
       "  </tbody>\n",
       "</table>\n",
       "</div>"
      ],
      "text/plain": [
       "   category_id       name\n",
       "0            1     Action\n",
       "1            2  Animation"
      ]
     },
     "execution_count": 26,
     "metadata": {},
     "output_type": "execute_result"
    }
   ],
   "source": [
    "df_category.drop([\"last_update\"], axis=1, inplace=True)\n",
    "df_category.head(2)"
   ]
  },
  {
   "cell_type": "code",
   "execution_count": 27,
   "id": "edcc3034",
   "metadata": {
    "scrolled": true
   },
   "outputs": [
    {
     "data": {
      "text/html": [
       "<div>\n",
       "<style scoped>\n",
       "    .dataframe tbody tr th:only-of-type {\n",
       "        vertical-align: middle;\n",
       "    }\n",
       "\n",
       "    .dataframe tbody tr th {\n",
       "        vertical-align: top;\n",
       "    }\n",
       "\n",
       "    .dataframe thead th {\n",
       "        text-align: right;\n",
       "    }\n",
       "</style>\n",
       "<table border=\"1\" class=\"dataframe\">\n",
       "  <thead>\n",
       "    <tr style=\"text-align: right;\">\n",
       "      <th></th>\n",
       "      <th>city_id</th>\n",
       "      <th>city</th>\n",
       "      <th>country_id</th>\n",
       "    </tr>\n",
       "  </thead>\n",
       "  <tbody>\n",
       "    <tr>\n",
       "      <th>0</th>\n",
       "      <td>1</td>\n",
       "      <td>A Coruña (La Coruña)</td>\n",
       "      <td>87</td>\n",
       "    </tr>\n",
       "    <tr>\n",
       "      <th>1</th>\n",
       "      <td>2</td>\n",
       "      <td>Abha</td>\n",
       "      <td>82</td>\n",
       "    </tr>\n",
       "  </tbody>\n",
       "</table>\n",
       "</div>"
      ],
      "text/plain": [
       "   city_id                  city  country_id\n",
       "0        1  A Coruña (La Coruña)          87\n",
       "1        2                  Abha          82"
      ]
     },
     "execution_count": 27,
     "metadata": {},
     "output_type": "execute_result"
    }
   ],
   "source": [
    "df_city.drop([\"last_update\"], axis=1, inplace=True)\n",
    "df_city.head(2)"
   ]
  },
  {
   "cell_type": "code",
   "execution_count": 28,
   "id": "6ba66b28",
   "metadata": {
    "scrolled": true
   },
   "outputs": [
    {
     "data": {
      "text/html": [
       "<div>\n",
       "<style scoped>\n",
       "    .dataframe tbody tr th:only-of-type {\n",
       "        vertical-align: middle;\n",
       "    }\n",
       "\n",
       "    .dataframe tbody tr th {\n",
       "        vertical-align: top;\n",
       "    }\n",
       "\n",
       "    .dataframe thead th {\n",
       "        text-align: right;\n",
       "    }\n",
       "</style>\n",
       "<table border=\"1\" class=\"dataframe\">\n",
       "  <thead>\n",
       "    <tr style=\"text-align: right;\">\n",
       "      <th></th>\n",
       "      <th>country_id</th>\n",
       "      <th>country</th>\n",
       "    </tr>\n",
       "  </thead>\n",
       "  <tbody>\n",
       "    <tr>\n",
       "      <th>0</th>\n",
       "      <td>1</td>\n",
       "      <td>Afghanistan</td>\n",
       "    </tr>\n",
       "    <tr>\n",
       "      <th>1</th>\n",
       "      <td>2</td>\n",
       "      <td>Algeria</td>\n",
       "    </tr>\n",
       "  </tbody>\n",
       "</table>\n",
       "</div>"
      ],
      "text/plain": [
       "   country_id      country\n",
       "0           1  Afghanistan\n",
       "1           2      Algeria"
      ]
     },
     "execution_count": 28,
     "metadata": {},
     "output_type": "execute_result"
    }
   ],
   "source": [
    "df_country.drop([\"last_update\"], axis=1, inplace=True)\n",
    "df_country.head(2)"
   ]
  },
  {
   "cell_type": "code",
   "execution_count": 29,
   "id": "9f004845",
   "metadata": {
    "scrolled": true
   },
   "outputs": [
    {
     "data": {
      "text/html": [
       "<div>\n",
       "<style scoped>\n",
       "    .dataframe tbody tr th:only-of-type {\n",
       "        vertical-align: middle;\n",
       "    }\n",
       "\n",
       "    .dataframe tbody tr th {\n",
       "        vertical-align: top;\n",
       "    }\n",
       "\n",
       "    .dataframe thead th {\n",
       "        text-align: right;\n",
       "    }\n",
       "</style>\n",
       "<table border=\"1\" class=\"dataframe\">\n",
       "  <thead>\n",
       "    <tr style=\"text-align: right;\">\n",
       "      <th></th>\n",
       "      <th>customer_id</th>\n",
       "      <th>store_id</th>\n",
       "      <th>first_name</th>\n",
       "      <th>last_name</th>\n",
       "      <th>email</th>\n",
       "      <th>address_id</th>\n",
       "      <th>active</th>\n",
       "    </tr>\n",
       "  </thead>\n",
       "  <tbody>\n",
       "    <tr>\n",
       "      <th>0</th>\n",
       "      <td>1</td>\n",
       "      <td>1</td>\n",
       "      <td>MARY</td>\n",
       "      <td>SMITH</td>\n",
       "      <td>MARY.SMITH@sakilacustomer.org</td>\n",
       "      <td>5</td>\n",
       "      <td>1</td>\n",
       "    </tr>\n",
       "    <tr>\n",
       "      <th>1</th>\n",
       "      <td>2</td>\n",
       "      <td>1</td>\n",
       "      <td>PATRICIA</td>\n",
       "      <td>JOHNSON</td>\n",
       "      <td>PATRICIA.JOHNSON@sakilacustomer.org</td>\n",
       "      <td>6</td>\n",
       "      <td>1</td>\n",
       "    </tr>\n",
       "  </tbody>\n",
       "</table>\n",
       "</div>"
      ],
      "text/plain": [
       "   customer_id  store_id first_name last_name  \\\n",
       "0            1         1       MARY     SMITH   \n",
       "1            2         1   PATRICIA   JOHNSON   \n",
       "\n",
       "                                 email  address_id  active  \n",
       "0        MARY.SMITH@sakilacustomer.org           5       1  \n",
       "1  PATRICIA.JOHNSON@sakilacustomer.org           6       1  "
      ]
     },
     "execution_count": 29,
     "metadata": {},
     "output_type": "execute_result"
    }
   ],
   "source": [
    "df_customer.drop([\"create_date\", \"last_update\"], axis=1, inplace=True)\n",
    "df_customer.head(2)"
   ]
  },
  {
   "cell_type": "code",
   "execution_count": 30,
   "id": "f22f74ad",
   "metadata": {
    "scrolled": true
   },
   "outputs": [
    {
     "data": {
      "text/html": [
       "<div>\n",
       "<style scoped>\n",
       "    .dataframe tbody tr th:only-of-type {\n",
       "        vertical-align: middle;\n",
       "    }\n",
       "\n",
       "    .dataframe tbody tr th {\n",
       "        vertical-align: top;\n",
       "    }\n",
       "\n",
       "    .dataframe thead th {\n",
       "        text-align: right;\n",
       "    }\n",
       "</style>\n",
       "<table border=\"1\" class=\"dataframe\">\n",
       "  <thead>\n",
       "    <tr style=\"text-align: right;\">\n",
       "      <th></th>\n",
       "      <th>film_id</th>\n",
       "      <th>title</th>\n",
       "      <th>description</th>\n",
       "      <th>release_year</th>\n",
       "      <th>language_id</th>\n",
       "      <th>rental_duration</th>\n",
       "      <th>rental_rate</th>\n",
       "      <th>length</th>\n",
       "      <th>replacement_cost</th>\n",
       "      <th>rating</th>\n",
       "      <th>special_features</th>\n",
       "    </tr>\n",
       "  </thead>\n",
       "  <tbody>\n",
       "    <tr>\n",
       "      <th>0</th>\n",
       "      <td>1</td>\n",
       "      <td>ACADEMY DINOSAUR</td>\n",
       "      <td>A Epic Drama of a Feminist And a Mad Scientist...</td>\n",
       "      <td>2006</td>\n",
       "      <td>1</td>\n",
       "      <td>6</td>\n",
       "      <td>0.99</td>\n",
       "      <td>86</td>\n",
       "      <td>20.99</td>\n",
       "      <td>PG</td>\n",
       "      <td>Deleted Scenes,Behind the Scenes</td>\n",
       "    </tr>\n",
       "    <tr>\n",
       "      <th>1</th>\n",
       "      <td>2</td>\n",
       "      <td>ACE GOLDFINGER</td>\n",
       "      <td>A Astounding Epistle of a Database Administrat...</td>\n",
       "      <td>2006</td>\n",
       "      <td>1</td>\n",
       "      <td>3</td>\n",
       "      <td>4.99</td>\n",
       "      <td>48</td>\n",
       "      <td>12.99</td>\n",
       "      <td>G</td>\n",
       "      <td>Trailers,Deleted Scenes</td>\n",
       "    </tr>\n",
       "  </tbody>\n",
       "</table>\n",
       "</div>"
      ],
      "text/plain": [
       "   film_id             title  \\\n",
       "0        1  ACADEMY DINOSAUR   \n",
       "1        2    ACE GOLDFINGER   \n",
       "\n",
       "                                         description  release_year  \\\n",
       "0  A Epic Drama of a Feminist And a Mad Scientist...          2006   \n",
       "1  A Astounding Epistle of a Database Administrat...          2006   \n",
       "\n",
       "   language_id  rental_duration  rental_rate  length  replacement_cost rating  \\\n",
       "0            1                6         0.99      86             20.99     PG   \n",
       "1            1                3         4.99      48             12.99      G   \n",
       "\n",
       "                   special_features  \n",
       "0  Deleted Scenes,Behind the Scenes  \n",
       "1           Trailers,Deleted Scenes  "
      ]
     },
     "execution_count": 30,
     "metadata": {},
     "output_type": "execute_result"
    }
   ],
   "source": [
    "df_film.drop([\"last_update\"], axis=1, inplace=True)\n",
    "df_film.head(2)"
   ]
  },
  {
   "cell_type": "code",
   "execution_count": 31,
   "id": "1f8ebf80",
   "metadata": {
    "scrolled": true
   },
   "outputs": [
    {
     "data": {
      "text/html": [
       "<div>\n",
       "<style scoped>\n",
       "    .dataframe tbody tr th:only-of-type {\n",
       "        vertical-align: middle;\n",
       "    }\n",
       "\n",
       "    .dataframe tbody tr th {\n",
       "        vertical-align: top;\n",
       "    }\n",
       "\n",
       "    .dataframe thead th {\n",
       "        text-align: right;\n",
       "    }\n",
       "</style>\n",
       "<table border=\"1\" class=\"dataframe\">\n",
       "  <thead>\n",
       "    <tr style=\"text-align: right;\">\n",
       "      <th></th>\n",
       "      <th>actor_id</th>\n",
       "      <th>film_id</th>\n",
       "    </tr>\n",
       "  </thead>\n",
       "  <tbody>\n",
       "    <tr>\n",
       "      <th>0</th>\n",
       "      <td>1</td>\n",
       "      <td>1</td>\n",
       "    </tr>\n",
       "    <tr>\n",
       "      <th>1</th>\n",
       "      <td>1</td>\n",
       "      <td>23</td>\n",
       "    </tr>\n",
       "  </tbody>\n",
       "</table>\n",
       "</div>"
      ],
      "text/plain": [
       "   actor_id  film_id\n",
       "0         1        1\n",
       "1         1       23"
      ]
     },
     "execution_count": 31,
     "metadata": {},
     "output_type": "execute_result"
    }
   ],
   "source": [
    "df_film_actor.drop([\"last_update\"], axis=1, inplace=True)\n",
    "df_film_actor.head(2)"
   ]
  },
  {
   "cell_type": "code",
   "execution_count": 32,
   "id": "7107d410",
   "metadata": {
    "scrolled": true
   },
   "outputs": [
    {
     "data": {
      "text/html": [
       "<div>\n",
       "<style scoped>\n",
       "    .dataframe tbody tr th:only-of-type {\n",
       "        vertical-align: middle;\n",
       "    }\n",
       "\n",
       "    .dataframe tbody tr th {\n",
       "        vertical-align: top;\n",
       "    }\n",
       "\n",
       "    .dataframe thead th {\n",
       "        text-align: right;\n",
       "    }\n",
       "</style>\n",
       "<table border=\"1\" class=\"dataframe\">\n",
       "  <thead>\n",
       "    <tr style=\"text-align: right;\">\n",
       "      <th></th>\n",
       "      <th>film_id</th>\n",
       "      <th>category_id</th>\n",
       "    </tr>\n",
       "  </thead>\n",
       "  <tbody>\n",
       "    <tr>\n",
       "      <th>0</th>\n",
       "      <td>1</td>\n",
       "      <td>6</td>\n",
       "    </tr>\n",
       "    <tr>\n",
       "      <th>1</th>\n",
       "      <td>2</td>\n",
       "      <td>11</td>\n",
       "    </tr>\n",
       "  </tbody>\n",
       "</table>\n",
       "</div>"
      ],
      "text/plain": [
       "   film_id  category_id\n",
       "0        1            6\n",
       "1        2           11"
      ]
     },
     "execution_count": 32,
     "metadata": {},
     "output_type": "execute_result"
    }
   ],
   "source": [
    "df_film_category.drop([\"last_update\"], axis=1, inplace=True)\n",
    "df_film_category.head(2)"
   ]
  },
  {
   "cell_type": "code",
   "execution_count": 33,
   "id": "c82e576a",
   "metadata": {},
   "outputs": [
    {
     "data": {
      "text/html": [
       "<div>\n",
       "<style scoped>\n",
       "    .dataframe tbody tr th:only-of-type {\n",
       "        vertical-align: middle;\n",
       "    }\n",
       "\n",
       "    .dataframe tbody tr th {\n",
       "        vertical-align: top;\n",
       "    }\n",
       "\n",
       "    .dataframe thead th {\n",
       "        text-align: right;\n",
       "    }\n",
       "</style>\n",
       "<table border=\"1\" class=\"dataframe\">\n",
       "  <thead>\n",
       "    <tr style=\"text-align: right;\">\n",
       "      <th></th>\n",
       "      <th>staff_id</th>\n",
       "      <th>store_id</th>\n",
       "      <th>address_id</th>\n",
       "      <th>first_name</th>\n",
       "      <th>last_name</th>\n",
       "      <th>email</th>\n",
       "      <th>active</th>\n",
       "      <th>username</th>\n",
       "      <th>password</th>\n",
       "    </tr>\n",
       "  </thead>\n",
       "  <tbody>\n",
       "    <tr>\n",
       "      <th>0</th>\n",
       "      <td>1</td>\n",
       "      <td>1</td>\n",
       "      <td>3</td>\n",
       "      <td>Mike</td>\n",
       "      <td>Hillyer</td>\n",
       "      <td>Mike.Hillyer@sakilastaff.com</td>\n",
       "      <td>1</td>\n",
       "      <td>Mike</td>\n",
       "      <td>8cb2237d0679ca88db6464eac60da96345513964</td>\n",
       "    </tr>\n",
       "    <tr>\n",
       "      <th>1</th>\n",
       "      <td>2</td>\n",
       "      <td>2</td>\n",
       "      <td>4</td>\n",
       "      <td>Jon</td>\n",
       "      <td>Stephens</td>\n",
       "      <td>Jon.Stephens@sakilastaff.com</td>\n",
       "      <td>1</td>\n",
       "      <td>Jon</td>\n",
       "      <td>None</td>\n",
       "    </tr>\n",
       "  </tbody>\n",
       "</table>\n",
       "</div>"
      ],
      "text/plain": [
       "   staff_id  store_id  address_id first_name last_name  \\\n",
       "0         1         1           3       Mike   Hillyer   \n",
       "1         2         2           4        Jon  Stephens   \n",
       "\n",
       "                          email  active username  \\\n",
       "0  Mike.Hillyer@sakilastaff.com       1     Mike   \n",
       "1  Jon.Stephens@sakilastaff.com       1      Jon   \n",
       "\n",
       "                                   password  \n",
       "0  8cb2237d0679ca88db6464eac60da96345513964  \n",
       "1                                      None  "
      ]
     },
     "execution_count": 33,
     "metadata": {},
     "output_type": "execute_result"
    }
   ],
   "source": [
    "# df_staff.drop([\"last_update\", \"picture\"], axis=1, inplace=True)\n",
    "\n",
    "# Reorder columns \n",
    "col_order = ['staff_id', 'store_id', 'address_id', 'first_name', 'last_name', 'email',\n",
    "        'active', 'username', 'password']\n",
    "df_staff = df_staff[col_order]\n",
    "\n",
    "df_staff.head(2)"
   ]
  },
  {
   "cell_type": "markdown",
   "id": "6e05c26c",
   "metadata": {},
   "source": [
    "#### Combine address, city, and country tables"
   ]
  },
  {
   "cell_type": "code",
   "execution_count": 34,
   "id": "bc6fc5b5",
   "metadata": {},
   "outputs": [
    {
     "data": {
      "text/html": [
       "<div>\n",
       "<style scoped>\n",
       "    .dataframe tbody tr th:only-of-type {\n",
       "        vertical-align: middle;\n",
       "    }\n",
       "\n",
       "    .dataframe tbody tr th {\n",
       "        vertical-align: top;\n",
       "    }\n",
       "\n",
       "    .dataframe thead th {\n",
       "        text-align: right;\n",
       "    }\n",
       "</style>\n",
       "<table border=\"1\" class=\"dataframe\">\n",
       "  <thead>\n",
       "    <tr style=\"text-align: right;\">\n",
       "      <th></th>\n",
       "      <th>address_id</th>\n",
       "      <th>address</th>\n",
       "      <th>address2</th>\n",
       "      <th>district</th>\n",
       "      <th>city_id</th>\n",
       "      <th>city</th>\n",
       "      <th>country_id</th>\n",
       "    </tr>\n",
       "  </thead>\n",
       "  <tbody>\n",
       "    <tr>\n",
       "      <th>0</th>\n",
       "      <td>1</td>\n",
       "      <td>47 MySakila Drive</td>\n",
       "      <td>NaN</td>\n",
       "      <td>Alberta</td>\n",
       "      <td>300</td>\n",
       "      <td>Lethbridge</td>\n",
       "      <td>20</td>\n",
       "    </tr>\n",
       "    <tr>\n",
       "      <th>1</th>\n",
       "      <td>2</td>\n",
       "      <td>28 MySQL Boulevard</td>\n",
       "      <td>NaN</td>\n",
       "      <td>QLD</td>\n",
       "      <td>576</td>\n",
       "      <td>Woodridge</td>\n",
       "      <td>8</td>\n",
       "    </tr>\n",
       "  </tbody>\n",
       "</table>\n",
       "</div>"
      ],
      "text/plain": [
       "   address_id             address  address2 district  city_id        city  \\\n",
       "0           1   47 MySakila Drive       NaN  Alberta      300  Lethbridge   \n",
       "1           2  28 MySQL Boulevard       NaN      QLD      576   Woodridge   \n",
       "\n",
       "   country_id  \n",
       "0          20  \n",
       "1           8  "
      ]
     },
     "execution_count": 34,
     "metadata": {},
     "output_type": "execute_result"
    }
   ],
   "source": [
    "# Merge address and city tables \n",
    "df_address = pd.merge(df_address, df_city, on=\"city_id\", how=\"inner\")\n",
    "df_address.head(2)"
   ]
  },
  {
   "cell_type": "code",
   "execution_count": 35,
   "id": "a416536a",
   "metadata": {},
   "outputs": [
    {
     "data": {
      "text/html": [
       "<div>\n",
       "<style scoped>\n",
       "    .dataframe tbody tr th:only-of-type {\n",
       "        vertical-align: middle;\n",
       "    }\n",
       "\n",
       "    .dataframe tbody tr th {\n",
       "        vertical-align: top;\n",
       "    }\n",
       "\n",
       "    .dataframe thead th {\n",
       "        text-align: right;\n",
       "    }\n",
       "</style>\n",
       "<table border=\"1\" class=\"dataframe\">\n",
       "  <thead>\n",
       "    <tr style=\"text-align: right;\">\n",
       "      <th></th>\n",
       "      <th>address_id</th>\n",
       "      <th>address</th>\n",
       "      <th>address2</th>\n",
       "      <th>district</th>\n",
       "      <th>city_id</th>\n",
       "      <th>city</th>\n",
       "      <th>country_id</th>\n",
       "      <th>country</th>\n",
       "    </tr>\n",
       "  </thead>\n",
       "  <tbody>\n",
       "    <tr>\n",
       "      <th>0</th>\n",
       "      <td>1</td>\n",
       "      <td>47 MySakila Drive</td>\n",
       "      <td>NaN</td>\n",
       "      <td>Alberta</td>\n",
       "      <td>300</td>\n",
       "      <td>Lethbridge</td>\n",
       "      <td>20</td>\n",
       "      <td>Canada</td>\n",
       "    </tr>\n",
       "    <tr>\n",
       "      <th>1</th>\n",
       "      <td>2</td>\n",
       "      <td>28 MySQL Boulevard</td>\n",
       "      <td>NaN</td>\n",
       "      <td>QLD</td>\n",
       "      <td>576</td>\n",
       "      <td>Woodridge</td>\n",
       "      <td>8</td>\n",
       "      <td>Australia</td>\n",
       "    </tr>\n",
       "  </tbody>\n",
       "</table>\n",
       "</div>"
      ],
      "text/plain": [
       "   address_id             address  address2 district  city_id        city  \\\n",
       "0           1   47 MySakila Drive       NaN  Alberta      300  Lethbridge   \n",
       "1           2  28 MySQL Boulevard       NaN      QLD      576   Woodridge   \n",
       "\n",
       "   country_id    country  \n",
       "0          20     Canada  \n",
       "1           8  Australia  "
      ]
     },
     "execution_count": 35,
     "metadata": {},
     "output_type": "execute_result"
    }
   ],
   "source": [
    "df_address = pd.merge(df_address, df_country, on=\"country_id\", how=\"inner\")\n",
    "df_address.head(2)"
   ]
  },
  {
   "cell_type": "code",
   "execution_count": 36,
   "id": "be6425c8",
   "metadata": {},
   "outputs": [
    {
     "name": "stdout",
     "output_type": "stream",
     "text": [
      "Index(['address_id', 'address', 'address2', 'district', 'city_id', 'city',\n",
      "       'country_id', 'country'],\n",
      "      dtype='object')\n"
     ]
    },
    {
     "data": {
      "text/html": [
       "<div>\n",
       "<style scoped>\n",
       "    .dataframe tbody tr th:only-of-type {\n",
       "        vertical-align: middle;\n",
       "    }\n",
       "\n",
       "    .dataframe tbody tr th {\n",
       "        vertical-align: top;\n",
       "    }\n",
       "\n",
       "    .dataframe thead th {\n",
       "        text-align: right;\n",
       "    }\n",
       "</style>\n",
       "<table border=\"1\" class=\"dataframe\">\n",
       "  <thead>\n",
       "    <tr style=\"text-align: right;\">\n",
       "      <th></th>\n",
       "      <th>address_id</th>\n",
       "      <th>city_id</th>\n",
       "      <th>country_id</th>\n",
       "      <th>address</th>\n",
       "      <th>address2</th>\n",
       "      <th>district</th>\n",
       "      <th>city</th>\n",
       "      <th>country</th>\n",
       "    </tr>\n",
       "  </thead>\n",
       "  <tbody>\n",
       "    <tr>\n",
       "      <th>0</th>\n",
       "      <td>1</td>\n",
       "      <td>300</td>\n",
       "      <td>20</td>\n",
       "      <td>47 MySakila Drive</td>\n",
       "      <td>NaN</td>\n",
       "      <td>Alberta</td>\n",
       "      <td>Lethbridge</td>\n",
       "      <td>Canada</td>\n",
       "    </tr>\n",
       "    <tr>\n",
       "      <th>1</th>\n",
       "      <td>2</td>\n",
       "      <td>576</td>\n",
       "      <td>8</td>\n",
       "      <td>28 MySQL Boulevard</td>\n",
       "      <td>NaN</td>\n",
       "      <td>QLD</td>\n",
       "      <td>Woodridge</td>\n",
       "      <td>Australia</td>\n",
       "    </tr>\n",
       "  </tbody>\n",
       "</table>\n",
       "</div>"
      ],
      "text/plain": [
       "   address_id  city_id  country_id             address  address2 district  \\\n",
       "0           1      300          20   47 MySakila Drive       NaN  Alberta   \n",
       "1           2      576           8  28 MySQL Boulevard       NaN      QLD   \n",
       "\n",
       "         city    country  \n",
       "0  Lethbridge     Canada  \n",
       "1   Woodridge  Australia  "
      ]
     },
     "execution_count": 36,
     "metadata": {},
     "output_type": "execute_result"
    }
   ],
   "source": [
    "# Reorder columns with primary and foreign keys first \n",
    "\n",
    "print(df_address.columns)\n",
    "col_order = ['address_id', 'city_id', 'country_id', 'address', 'address2', 'district', 'city', 'country']\n",
    "df_address = df_address[col_order]\n",
    "df_address.head(2)"
   ]
  },
  {
   "cell_type": "markdown",
   "id": "51000356",
   "metadata": {},
   "source": [
    "#### Combine film, film_actor, and film_category tables "
   ]
  },
  {
   "cell_type": "code",
   "execution_count": 37,
   "id": "9d0283af",
   "metadata": {
    "scrolled": true
   },
   "outputs": [
    {
     "data": {
      "text/html": [
       "<div>\n",
       "<style scoped>\n",
       "    .dataframe tbody tr th:only-of-type {\n",
       "        vertical-align: middle;\n",
       "    }\n",
       "\n",
       "    .dataframe tbody tr th {\n",
       "        vertical-align: top;\n",
       "    }\n",
       "\n",
       "    .dataframe thead th {\n",
       "        text-align: right;\n",
       "    }\n",
       "</style>\n",
       "<table border=\"1\" class=\"dataframe\">\n",
       "  <thead>\n",
       "    <tr style=\"text-align: right;\">\n",
       "      <th></th>\n",
       "      <th>film_id</th>\n",
       "      <th>title</th>\n",
       "      <th>description</th>\n",
       "      <th>release_year</th>\n",
       "      <th>language_id</th>\n",
       "      <th>rental_duration</th>\n",
       "      <th>rental_rate</th>\n",
       "      <th>length</th>\n",
       "      <th>replacement_cost</th>\n",
       "      <th>rating</th>\n",
       "      <th>special_features</th>\n",
       "      <th>actor_id</th>\n",
       "    </tr>\n",
       "  </thead>\n",
       "  <tbody>\n",
       "    <tr>\n",
       "      <th>0</th>\n",
       "      <td>1</td>\n",
       "      <td>ACADEMY DINOSAUR</td>\n",
       "      <td>A Epic Drama of a Feminist And a Mad Scientist...</td>\n",
       "      <td>2006</td>\n",
       "      <td>1</td>\n",
       "      <td>6</td>\n",
       "      <td>0.99</td>\n",
       "      <td>86</td>\n",
       "      <td>20.99</td>\n",
       "      <td>PG</td>\n",
       "      <td>Deleted Scenes,Behind the Scenes</td>\n",
       "      <td>1</td>\n",
       "    </tr>\n",
       "    <tr>\n",
       "      <th>1</th>\n",
       "      <td>1</td>\n",
       "      <td>ACADEMY DINOSAUR</td>\n",
       "      <td>A Epic Drama of a Feminist And a Mad Scientist...</td>\n",
       "      <td>2006</td>\n",
       "      <td>1</td>\n",
       "      <td>6</td>\n",
       "      <td>0.99</td>\n",
       "      <td>86</td>\n",
       "      <td>20.99</td>\n",
       "      <td>PG</td>\n",
       "      <td>Deleted Scenes,Behind the Scenes</td>\n",
       "      <td>10</td>\n",
       "    </tr>\n",
       "  </tbody>\n",
       "</table>\n",
       "</div>"
      ],
      "text/plain": [
       "   film_id             title  \\\n",
       "0        1  ACADEMY DINOSAUR   \n",
       "1        1  ACADEMY DINOSAUR   \n",
       "\n",
       "                                         description  release_year  \\\n",
       "0  A Epic Drama of a Feminist And a Mad Scientist...          2006   \n",
       "1  A Epic Drama of a Feminist And a Mad Scientist...          2006   \n",
       "\n",
       "   language_id  rental_duration  rental_rate  length  replacement_cost rating  \\\n",
       "0            1                6         0.99      86             20.99     PG   \n",
       "1            1                6         0.99      86             20.99     PG   \n",
       "\n",
       "                   special_features  actor_id  \n",
       "0  Deleted Scenes,Behind the Scenes         1  \n",
       "1  Deleted Scenes,Behind the Scenes        10  "
      ]
     },
     "execution_count": 37,
     "metadata": {},
     "output_type": "execute_result"
    }
   ],
   "source": [
    "# Merge film and film_actor tables \n",
    "df_film = pd.merge(df_film, df_film_actor, on=\"film_id\", how=\"inner\")\n",
    "df_film.head(2)"
   ]
  },
  {
   "cell_type": "code",
   "execution_count": 38,
   "id": "c59507ea",
   "metadata": {
    "scrolled": true
   },
   "outputs": [
    {
     "data": {
      "text/html": [
       "<div>\n",
       "<style scoped>\n",
       "    .dataframe tbody tr th:only-of-type {\n",
       "        vertical-align: middle;\n",
       "    }\n",
       "\n",
       "    .dataframe tbody tr th {\n",
       "        vertical-align: top;\n",
       "    }\n",
       "\n",
       "    .dataframe thead th {\n",
       "        text-align: right;\n",
       "    }\n",
       "</style>\n",
       "<table border=\"1\" class=\"dataframe\">\n",
       "  <thead>\n",
       "    <tr style=\"text-align: right;\">\n",
       "      <th></th>\n",
       "      <th>film_id</th>\n",
       "      <th>actor_id</th>\n",
       "      <th>category_id</th>\n",
       "      <th>title</th>\n",
       "      <th>description</th>\n",
       "      <th>release_year</th>\n",
       "      <th>language_id</th>\n",
       "      <th>rental_duration</th>\n",
       "      <th>rental_rate</th>\n",
       "      <th>length</th>\n",
       "      <th>replacement_cost</th>\n",
       "      <th>rating</th>\n",
       "      <th>special_features</th>\n",
       "    </tr>\n",
       "  </thead>\n",
       "  <tbody>\n",
       "    <tr>\n",
       "      <th>0</th>\n",
       "      <td>1</td>\n",
       "      <td>1</td>\n",
       "      <td>6</td>\n",
       "      <td>ACADEMY DINOSAUR</td>\n",
       "      <td>A Epic Drama of a Feminist And a Mad Scientist...</td>\n",
       "      <td>2006</td>\n",
       "      <td>1</td>\n",
       "      <td>6</td>\n",
       "      <td>0.99</td>\n",
       "      <td>86</td>\n",
       "      <td>20.99</td>\n",
       "      <td>PG</td>\n",
       "      <td>Deleted Scenes,Behind the Scenes</td>\n",
       "    </tr>\n",
       "    <tr>\n",
       "      <th>1</th>\n",
       "      <td>1</td>\n",
       "      <td>10</td>\n",
       "      <td>6</td>\n",
       "      <td>ACADEMY DINOSAUR</td>\n",
       "      <td>A Epic Drama of a Feminist And a Mad Scientist...</td>\n",
       "      <td>2006</td>\n",
       "      <td>1</td>\n",
       "      <td>6</td>\n",
       "      <td>0.99</td>\n",
       "      <td>86</td>\n",
       "      <td>20.99</td>\n",
       "      <td>PG</td>\n",
       "      <td>Deleted Scenes,Behind the Scenes</td>\n",
       "    </tr>\n",
       "  </tbody>\n",
       "</table>\n",
       "</div>"
      ],
      "text/plain": [
       "   film_id  actor_id  category_id             title  \\\n",
       "0        1         1            6  ACADEMY DINOSAUR   \n",
       "1        1        10            6  ACADEMY DINOSAUR   \n",
       "\n",
       "                                         description  release_year  \\\n",
       "0  A Epic Drama of a Feminist And a Mad Scientist...          2006   \n",
       "1  A Epic Drama of a Feminist And a Mad Scientist...          2006   \n",
       "\n",
       "   language_id  rental_duration  rental_rate  length  replacement_cost rating  \\\n",
       "0            1                6         0.99      86             20.99     PG   \n",
       "1            1                6         0.99      86             20.99     PG   \n",
       "\n",
       "                   special_features  \n",
       "0  Deleted Scenes,Behind the Scenes  \n",
       "1  Deleted Scenes,Behind the Scenes  "
      ]
     },
     "execution_count": 38,
     "metadata": {},
     "output_type": "execute_result"
    }
   ],
   "source": [
    "# Merge film and film_category tables \n",
    "df_film = pd.merge(df_film, df_film_category, on=\"film_id\", how=\"inner\")\n",
    "\n",
    "# Reorder columns \n",
    "col_order = ['film_id', 'actor_id', 'category_id', 'title', 'description', 'release_year', 'language_id',\n",
    "       'rental_duration', 'rental_rate', 'length', 'replacement_cost',\n",
    "       'rating', 'special_features']\n",
    "df_film = df_film[col_order]\n",
    "\n",
    "df_film.head(2)"
   ]
  },
  {
   "cell_type": "code",
   "execution_count": 39,
   "id": "52dece40",
   "metadata": {},
   "outputs": [],
   "source": [
    "# Drop duplicates \n",
    "df_film = df_film.drop_duplicates(subset='film_id', keep='first')"
   ]
  },
  {
   "cell_type": "markdown",
   "id": "4c2b9ff2",
   "metadata": {},
   "source": [
    "### Load Dimension Tables into Destination Database (sakila_db)"
   ]
  },
  {
   "cell_type": "code",
   "execution_count": 40,
   "id": "50554490",
   "metadata": {},
   "outputs": [],
   "source": [
    "db_operation = \"insert\"\n",
    "\n",
    "tables = [('dim_actor', df_actor, 'actor_id'), \n",
    "          ('dim_address', df_address, 'address_id'),\n",
    "          ('dim_category', df_category, 'category_id'), \n",
    "          ('dim_customer', df_customer, 'customer_id'),\n",
    "          ('dim_film', df_film, 'film_id'), \n",
    "          ('dim_staff', df_staff, 'staff_id')]\n",
    "\n",
    "for table_name, dataframe, primary_key in tables:\n",
    "    set_dataframe(user_id, pwd, host_name, dst_dbname, dataframe, table_name, primary_key, db_operation)"
   ]
  },
  {
   "cell_type": "markdown",
   "id": "88fc24ed",
   "metadata": {},
   "source": [
    "### Create and Populate the Fact Tables "
   ]
  },
  {
   "cell_type": "markdown",
   "id": "63680f50",
   "metadata": {},
   "source": [
    "In the sakila database, **rental**, **payment**, and **inventory** are our fact tables because they contain a primary key and several foreign keys which link to other table's primary keys. "
   ]
  },
  {
   "cell_type": "markdown",
   "id": "90ebd215",
   "metadata": {},
   "source": [
    "**e.g. Primary and Foreign Keys**\n",
    "* In the rental table: \n",
    "    * rental_id is the primary key.\n",
    "    * inventory_id, customer_id, and staff_id are all foreign keys which link to the primary keys in the inventory, customer, and staff tables. "
   ]
  },
  {
   "cell_type": "markdown",
   "id": "0ebf23fb",
   "metadata": {},
   "source": [
    "#### Get Source Data for Fact Tables"
   ]
  },
  {
   "cell_type": "code",
   "execution_count": 41,
   "id": "334fcf92",
   "metadata": {},
   "outputs": [
    {
     "data": {
      "text/html": [
       "<div>\n",
       "<style scoped>\n",
       "    .dataframe tbody tr th:only-of-type {\n",
       "        vertical-align: middle;\n",
       "    }\n",
       "\n",
       "    .dataframe tbody tr th {\n",
       "        vertical-align: top;\n",
       "    }\n",
       "\n",
       "    .dataframe thead th {\n",
       "        text-align: right;\n",
       "    }\n",
       "</style>\n",
       "<table border=\"1\" class=\"dataframe\">\n",
       "  <thead>\n",
       "    <tr style=\"text-align: right;\">\n",
       "      <th></th>\n",
       "      <th>inventory_id</th>\n",
       "      <th>film_id</th>\n",
       "      <th>store_id</th>\n",
       "      <th>last_update</th>\n",
       "    </tr>\n",
       "  </thead>\n",
       "  <tbody>\n",
       "    <tr>\n",
       "      <th>0</th>\n",
       "      <td>1</td>\n",
       "      <td>1</td>\n",
       "      <td>1</td>\n",
       "      <td>2006-02-15 05:09:17</td>\n",
       "    </tr>\n",
       "    <tr>\n",
       "      <th>1</th>\n",
       "      <td>2</td>\n",
       "      <td>1</td>\n",
       "      <td>1</td>\n",
       "      <td>2006-02-15 05:09:17</td>\n",
       "    </tr>\n",
       "  </tbody>\n",
       "</table>\n",
       "</div>"
      ],
      "text/plain": [
       "   inventory_id  film_id  store_id         last_update\n",
       "0             1        1         1 2006-02-15 05:09:17\n",
       "1             2        1         1 2006-02-15 05:09:17"
      ]
     },
     "execution_count": 41,
     "metadata": {},
     "output_type": "execute_result"
    }
   ],
   "source": [
    "sql_inventory = \"SELECT * FROM sakila.inventory;\"\n",
    "df_inventory = get_sql_dataframe(sql_inventory, **mysql_args)\n",
    "df_inventory.head(2)"
   ]
  },
  {
   "cell_type": "code",
   "execution_count": 42,
   "id": "07877b16",
   "metadata": {},
   "outputs": [
    {
     "data": {
      "text/html": [
       "<div>\n",
       "<style scoped>\n",
       "    .dataframe tbody tr th:only-of-type {\n",
       "        vertical-align: middle;\n",
       "    }\n",
       "\n",
       "    .dataframe tbody tr th {\n",
       "        vertical-align: top;\n",
       "    }\n",
       "\n",
       "    .dataframe thead th {\n",
       "        text-align: right;\n",
       "    }\n",
       "</style>\n",
       "<table border=\"1\" class=\"dataframe\">\n",
       "  <thead>\n",
       "    <tr style=\"text-align: right;\">\n",
       "      <th></th>\n",
       "      <th>payment_id</th>\n",
       "      <th>customer_id</th>\n",
       "      <th>staff_id</th>\n",
       "      <th>rental_id</th>\n",
       "      <th>amount</th>\n",
       "      <th>payment_date</th>\n",
       "      <th>last_update</th>\n",
       "    </tr>\n",
       "  </thead>\n",
       "  <tbody>\n",
       "    <tr>\n",
       "      <th>0</th>\n",
       "      <td>1</td>\n",
       "      <td>1</td>\n",
       "      <td>1</td>\n",
       "      <td>76</td>\n",
       "      <td>2.99</td>\n",
       "      <td>2005-05-25 11:30:37</td>\n",
       "      <td>2006-02-15 22:12:30</td>\n",
       "    </tr>\n",
       "    <tr>\n",
       "      <th>1</th>\n",
       "      <td>2</td>\n",
       "      <td>1</td>\n",
       "      <td>1</td>\n",
       "      <td>573</td>\n",
       "      <td>0.99</td>\n",
       "      <td>2005-05-28 10:35:23</td>\n",
       "      <td>2006-02-15 22:12:30</td>\n",
       "    </tr>\n",
       "  </tbody>\n",
       "</table>\n",
       "</div>"
      ],
      "text/plain": [
       "   payment_id  customer_id  staff_id  rental_id  amount        payment_date  \\\n",
       "0           1            1         1         76    2.99 2005-05-25 11:30:37   \n",
       "1           2            1         1        573    0.99 2005-05-28 10:35:23   \n",
       "\n",
       "          last_update  \n",
       "0 2006-02-15 22:12:30  \n",
       "1 2006-02-15 22:12:30  "
      ]
     },
     "execution_count": 42,
     "metadata": {},
     "output_type": "execute_result"
    }
   ],
   "source": [
    "sql_payment = \"SELECT * FROM sakila.payment;\"\n",
    "df_payment = get_sql_dataframe(sql_payment, **mysql_args)\n",
    "df_payment.head(2)"
   ]
  },
  {
   "cell_type": "code",
   "execution_count": 43,
   "id": "0b3a62b2",
   "metadata": {},
   "outputs": [
    {
     "data": {
      "text/html": [
       "<div>\n",
       "<style scoped>\n",
       "    .dataframe tbody tr th:only-of-type {\n",
       "        vertical-align: middle;\n",
       "    }\n",
       "\n",
       "    .dataframe tbody tr th {\n",
       "        vertical-align: top;\n",
       "    }\n",
       "\n",
       "    .dataframe thead th {\n",
       "        text-align: right;\n",
       "    }\n",
       "</style>\n",
       "<table border=\"1\" class=\"dataframe\">\n",
       "  <thead>\n",
       "    <tr style=\"text-align: right;\">\n",
       "      <th></th>\n",
       "      <th>rental_id</th>\n",
       "      <th>rental_date</th>\n",
       "      <th>inventory_id</th>\n",
       "      <th>customer_id</th>\n",
       "      <th>return_date</th>\n",
       "      <th>staff_id</th>\n",
       "      <th>last_update</th>\n",
       "    </tr>\n",
       "  </thead>\n",
       "  <tbody>\n",
       "    <tr>\n",
       "      <th>0</th>\n",
       "      <td>1</td>\n",
       "      <td>2005-05-24 22:53:30</td>\n",
       "      <td>367</td>\n",
       "      <td>130</td>\n",
       "      <td>2005-05-26 22:04:30</td>\n",
       "      <td>1</td>\n",
       "      <td>2006-02-15 21:30:53</td>\n",
       "    </tr>\n",
       "    <tr>\n",
       "      <th>1</th>\n",
       "      <td>2</td>\n",
       "      <td>2005-05-24 22:54:33</td>\n",
       "      <td>1525</td>\n",
       "      <td>459</td>\n",
       "      <td>2005-05-28 19:40:33</td>\n",
       "      <td>1</td>\n",
       "      <td>2006-02-15 21:30:53</td>\n",
       "    </tr>\n",
       "  </tbody>\n",
       "</table>\n",
       "</div>"
      ],
      "text/plain": [
       "   rental_id         rental_date  inventory_id  customer_id  \\\n",
       "0          1 2005-05-24 22:53:30           367          130   \n",
       "1          2 2005-05-24 22:54:33          1525          459   \n",
       "\n",
       "          return_date  staff_id         last_update  \n",
       "0 2005-05-26 22:04:30         1 2006-02-15 21:30:53  \n",
       "1 2005-05-28 19:40:33         1 2006-02-15 21:30:53  "
      ]
     },
     "execution_count": 43,
     "metadata": {},
     "output_type": "execute_result"
    }
   ],
   "source": [
    "sql_rental = \"SELECT * FROM sakila.rental;\"\n",
    "df_rental = get_sql_dataframe(sql_rental, **mysql_args)\n",
    "df_rental.head(2)"
   ]
  },
  {
   "cell_type": "markdown",
   "id": "65cc600d",
   "metadata": {},
   "source": [
    "#### Check Dimension Tables for Missing Values"
   ]
  },
  {
   "cell_type": "code",
   "execution_count": 44,
   "id": "f312c696",
   "metadata": {},
   "outputs": [
    {
     "data": {
      "text/plain": [
       "inventory_id    0.0\n",
       "film_id         0.0\n",
       "store_id        0.0\n",
       "last_update     0.0\n",
       "dtype: float64"
      ]
     },
     "execution_count": 44,
     "metadata": {},
     "output_type": "execute_result"
    }
   ],
   "source": [
    "df_inventory.isna().sum() / len(df_inventory)"
   ]
  },
  {
   "cell_type": "code",
   "execution_count": 45,
   "id": "d3f8621b",
   "metadata": {},
   "outputs": [
    {
     "data": {
      "text/plain": [
       "payment_id      0.0\n",
       "customer_id     0.0\n",
       "staff_id        0.0\n",
       "rental_id       0.0\n",
       "amount          0.0\n",
       "payment_date    0.0\n",
       "last_update     0.0\n",
       "dtype: float64"
      ]
     },
     "execution_count": 45,
     "metadata": {},
     "output_type": "execute_result"
    }
   ],
   "source": [
    "df_payment.isna().sum() / len(df_payment)"
   ]
  },
  {
   "cell_type": "code",
   "execution_count": 46,
   "id": "67d7c6ce",
   "metadata": {},
   "outputs": [
    {
     "data": {
      "text/plain": [
       "rental_id       0.000000\n",
       "rental_date     0.000000\n",
       "inventory_id    0.000000\n",
       "customer_id     0.000000\n",
       "return_date     0.011406\n",
       "staff_id        0.000000\n",
       "last_update     0.000000\n",
       "dtype: float64"
      ]
     },
     "execution_count": 46,
     "metadata": {},
     "output_type": "execute_result"
    }
   ],
   "source": [
    "df_rental.isna().sum() / len(df_rental)\n",
    "\n",
    "# 1% of return_date values are missing, but this isn't an issue"
   ]
  },
  {
   "cell_type": "markdown",
   "id": "9715b6b7",
   "metadata": {},
   "source": [
    "#### Drop Unneccessary Columns"
   ]
  },
  {
   "cell_type": "code",
   "execution_count": 47,
   "id": "8a398470",
   "metadata": {},
   "outputs": [
    {
     "data": {
      "text/html": [
       "<div>\n",
       "<style scoped>\n",
       "    .dataframe tbody tr th:only-of-type {\n",
       "        vertical-align: middle;\n",
       "    }\n",
       "\n",
       "    .dataframe tbody tr th {\n",
       "        vertical-align: top;\n",
       "    }\n",
       "\n",
       "    .dataframe thead th {\n",
       "        text-align: right;\n",
       "    }\n",
       "</style>\n",
       "<table border=\"1\" class=\"dataframe\">\n",
       "  <thead>\n",
       "    <tr style=\"text-align: right;\">\n",
       "      <th></th>\n",
       "      <th>rental_id</th>\n",
       "      <th>rental_date</th>\n",
       "      <th>inventory_id</th>\n",
       "      <th>customer_id</th>\n",
       "      <th>return_date</th>\n",
       "      <th>staff_id</th>\n",
       "    </tr>\n",
       "  </thead>\n",
       "  <tbody>\n",
       "    <tr>\n",
       "      <th>0</th>\n",
       "      <td>1</td>\n",
       "      <td>2005-05-24 22:53:30</td>\n",
       "      <td>367</td>\n",
       "      <td>130</td>\n",
       "      <td>2005-05-26 22:04:30</td>\n",
       "      <td>1</td>\n",
       "    </tr>\n",
       "    <tr>\n",
       "      <th>1</th>\n",
       "      <td>2</td>\n",
       "      <td>2005-05-24 22:54:33</td>\n",
       "      <td>1525</td>\n",
       "      <td>459</td>\n",
       "      <td>2005-05-28 19:40:33</td>\n",
       "      <td>1</td>\n",
       "    </tr>\n",
       "  </tbody>\n",
       "</table>\n",
       "</div>"
      ],
      "text/plain": [
       "   rental_id         rental_date  inventory_id  customer_id  \\\n",
       "0          1 2005-05-24 22:53:30           367          130   \n",
       "1          2 2005-05-24 22:54:33          1525          459   \n",
       "\n",
       "          return_date  staff_id  \n",
       "0 2005-05-26 22:04:30         1  \n",
       "1 2005-05-28 19:40:33         1  "
      ]
     },
     "execution_count": 47,
     "metadata": {},
     "output_type": "execute_result"
    }
   ],
   "source": [
    "df_rental.drop([\"last_update\"], axis=1, inplace=True)\n",
    "df_rental.head(2)"
   ]
  },
  {
   "cell_type": "code",
   "execution_count": 48,
   "id": "4ddc9d64",
   "metadata": {
    "scrolled": true
   },
   "outputs": [
    {
     "data": {
      "text/html": [
       "<div>\n",
       "<style scoped>\n",
       "    .dataframe tbody tr th:only-of-type {\n",
       "        vertical-align: middle;\n",
       "    }\n",
       "\n",
       "    .dataframe tbody tr th {\n",
       "        vertical-align: top;\n",
       "    }\n",
       "\n",
       "    .dataframe thead th {\n",
       "        text-align: right;\n",
       "    }\n",
       "</style>\n",
       "<table border=\"1\" class=\"dataframe\">\n",
       "  <thead>\n",
       "    <tr style=\"text-align: right;\">\n",
       "      <th></th>\n",
       "      <th>inventory_id</th>\n",
       "      <th>film_id</th>\n",
       "      <th>store_id</th>\n",
       "    </tr>\n",
       "  </thead>\n",
       "  <tbody>\n",
       "    <tr>\n",
       "      <th>0</th>\n",
       "      <td>1</td>\n",
       "      <td>1</td>\n",
       "      <td>1</td>\n",
       "    </tr>\n",
       "    <tr>\n",
       "      <th>1</th>\n",
       "      <td>2</td>\n",
       "      <td>1</td>\n",
       "      <td>1</td>\n",
       "    </tr>\n",
       "  </tbody>\n",
       "</table>\n",
       "</div>"
      ],
      "text/plain": [
       "   inventory_id  film_id  store_id\n",
       "0             1        1         1\n",
       "1             2        1         1"
      ]
     },
     "execution_count": 48,
     "metadata": {},
     "output_type": "execute_result"
    }
   ],
   "source": [
    "df_inventory.drop([\"last_update\"], axis=1, inplace=True)\n",
    "df_inventory.head(2)"
   ]
  },
  {
   "cell_type": "code",
   "execution_count": 49,
   "id": "2a28426b",
   "metadata": {
    "scrolled": true
   },
   "outputs": [
    {
     "data": {
      "text/html": [
       "<div>\n",
       "<style scoped>\n",
       "    .dataframe tbody tr th:only-of-type {\n",
       "        vertical-align: middle;\n",
       "    }\n",
       "\n",
       "    .dataframe tbody tr th {\n",
       "        vertical-align: top;\n",
       "    }\n",
       "\n",
       "    .dataframe thead th {\n",
       "        text-align: right;\n",
       "    }\n",
       "</style>\n",
       "<table border=\"1\" class=\"dataframe\">\n",
       "  <thead>\n",
       "    <tr style=\"text-align: right;\">\n",
       "      <th></th>\n",
       "      <th>payment_id</th>\n",
       "      <th>customer_id</th>\n",
       "      <th>staff_id</th>\n",
       "      <th>rental_id</th>\n",
       "      <th>amount</th>\n",
       "      <th>payment_date</th>\n",
       "    </tr>\n",
       "  </thead>\n",
       "  <tbody>\n",
       "    <tr>\n",
       "      <th>0</th>\n",
       "      <td>1</td>\n",
       "      <td>1</td>\n",
       "      <td>1</td>\n",
       "      <td>76</td>\n",
       "      <td>2.99</td>\n",
       "      <td>2005-05-25 11:30:37</td>\n",
       "    </tr>\n",
       "    <tr>\n",
       "      <th>1</th>\n",
       "      <td>2</td>\n",
       "      <td>1</td>\n",
       "      <td>1</td>\n",
       "      <td>573</td>\n",
       "      <td>0.99</td>\n",
       "      <td>2005-05-28 10:35:23</td>\n",
       "    </tr>\n",
       "  </tbody>\n",
       "</table>\n",
       "</div>"
      ],
      "text/plain": [
       "   payment_id  customer_id  staff_id  rental_id  amount        payment_date\n",
       "0           1            1         1         76    2.99 2005-05-25 11:30:37\n",
       "1           2            1         1        573    0.99 2005-05-28 10:35:23"
      ]
     },
     "execution_count": 49,
     "metadata": {},
     "output_type": "execute_result"
    }
   ],
   "source": [
    "df_payment.drop([\"last_update\"], axis=1, inplace=True)\n",
    "df_payment.head(2)"
   ]
  },
  {
   "cell_type": "markdown",
   "id": "8560510b",
   "metadata": {},
   "source": [
    "####  Convert dates to datetime format "
   ]
  },
  {
   "cell_type": "code",
   "execution_count": 50,
   "id": "4d5e4121",
   "metadata": {},
   "outputs": [
    {
     "data": {
      "text/html": [
       "<div>\n",
       "<style scoped>\n",
       "    .dataframe tbody tr th:only-of-type {\n",
       "        vertical-align: middle;\n",
       "    }\n",
       "\n",
       "    .dataframe tbody tr th {\n",
       "        vertical-align: top;\n",
       "    }\n",
       "\n",
       "    .dataframe thead th {\n",
       "        text-align: right;\n",
       "    }\n",
       "</style>\n",
       "<table border=\"1\" class=\"dataframe\">\n",
       "  <thead>\n",
       "    <tr style=\"text-align: right;\">\n",
       "      <th></th>\n",
       "      <th>rental_id</th>\n",
       "      <th>rental_date</th>\n",
       "      <th>inventory_id</th>\n",
       "      <th>customer_id</th>\n",
       "      <th>return_date</th>\n",
       "      <th>staff_id</th>\n",
       "    </tr>\n",
       "  </thead>\n",
       "  <tbody>\n",
       "    <tr>\n",
       "      <th>0</th>\n",
       "      <td>1</td>\n",
       "      <td>2005-05-24</td>\n",
       "      <td>367</td>\n",
       "      <td>130</td>\n",
       "      <td>2005-05-26</td>\n",
       "      <td>1</td>\n",
       "    </tr>\n",
       "    <tr>\n",
       "      <th>1</th>\n",
       "      <td>2</td>\n",
       "      <td>2005-05-24</td>\n",
       "      <td>1525</td>\n",
       "      <td>459</td>\n",
       "      <td>2005-05-28</td>\n",
       "      <td>1</td>\n",
       "    </tr>\n",
       "  </tbody>\n",
       "</table>\n",
       "</div>"
      ],
      "text/plain": [
       "   rental_id rental_date  inventory_id  customer_id return_date  staff_id\n",
       "0          1  2005-05-24           367          130  2005-05-26         1\n",
       "1          2  2005-05-24          1525          459  2005-05-28         1"
      ]
     },
     "execution_count": 50,
     "metadata": {},
     "output_type": "execute_result"
    }
   ],
   "source": [
    "df_rental.rental_date = df_rental.rental_date.astype('datetime64[ns]').dt.date\n",
    "df_rental.return_date = df_rental.return_date.astype('datetime64[ns]').dt.date\n",
    "df_rental.head(2)"
   ]
  },
  {
   "cell_type": "code",
   "execution_count": 51,
   "id": "67062642",
   "metadata": {
    "scrolled": true
   },
   "outputs": [
    {
     "data": {
      "text/html": [
       "<div>\n",
       "<style scoped>\n",
       "    .dataframe tbody tr th:only-of-type {\n",
       "        vertical-align: middle;\n",
       "    }\n",
       "\n",
       "    .dataframe tbody tr th {\n",
       "        vertical-align: top;\n",
       "    }\n",
       "\n",
       "    .dataframe thead th {\n",
       "        text-align: right;\n",
       "    }\n",
       "</style>\n",
       "<table border=\"1\" class=\"dataframe\">\n",
       "  <thead>\n",
       "    <tr style=\"text-align: right;\">\n",
       "      <th></th>\n",
       "      <th>payment_id</th>\n",
       "      <th>customer_id</th>\n",
       "      <th>staff_id</th>\n",
       "      <th>rental_id</th>\n",
       "      <th>amount</th>\n",
       "      <th>payment_date</th>\n",
       "    </tr>\n",
       "  </thead>\n",
       "  <tbody>\n",
       "    <tr>\n",
       "      <th>0</th>\n",
       "      <td>1</td>\n",
       "      <td>1</td>\n",
       "      <td>1</td>\n",
       "      <td>76</td>\n",
       "      <td>2.99</td>\n",
       "      <td>2005-05-25</td>\n",
       "    </tr>\n",
       "    <tr>\n",
       "      <th>1</th>\n",
       "      <td>2</td>\n",
       "      <td>1</td>\n",
       "      <td>1</td>\n",
       "      <td>573</td>\n",
       "      <td>0.99</td>\n",
       "      <td>2005-05-28</td>\n",
       "    </tr>\n",
       "  </tbody>\n",
       "</table>\n",
       "</div>"
      ],
      "text/plain": [
       "   payment_id  customer_id  staff_id  rental_id  amount payment_date\n",
       "0           1            1         1         76    2.99   2005-05-25\n",
       "1           2            1         1        573    0.99   2005-05-28"
      ]
     },
     "execution_count": 51,
     "metadata": {},
     "output_type": "execute_result"
    }
   ],
   "source": [
    "df_payment.payment_date = df_payment.payment_date.astype('datetime64[ns]').dt.date\n",
    "df_payment.head(2)"
   ]
  },
  {
   "cell_type": "markdown",
   "id": "5b606c56",
   "metadata": {},
   "source": [
    "#### Combine rental and inventory tables"
   ]
  },
  {
   "cell_type": "code",
   "execution_count": 52,
   "id": "fb453b07",
   "metadata": {},
   "outputs": [
    {
     "data": {
      "text/html": [
       "<div>\n",
       "<style scoped>\n",
       "    .dataframe tbody tr th:only-of-type {\n",
       "        vertical-align: middle;\n",
       "    }\n",
       "\n",
       "    .dataframe tbody tr th {\n",
       "        vertical-align: top;\n",
       "    }\n",
       "\n",
       "    .dataframe thead th {\n",
       "        text-align: right;\n",
       "    }\n",
       "</style>\n",
       "<table border=\"1\" class=\"dataframe\">\n",
       "  <thead>\n",
       "    <tr style=\"text-align: right;\">\n",
       "      <th></th>\n",
       "      <th>rental_id</th>\n",
       "      <th>inventory_id</th>\n",
       "      <th>film_id</th>\n",
       "      <th>customer_id</th>\n",
       "      <th>rental_date</th>\n",
       "      <th>return_date</th>\n",
       "    </tr>\n",
       "  </thead>\n",
       "  <tbody>\n",
       "    <tr>\n",
       "      <th>0</th>\n",
       "      <td>1</td>\n",
       "      <td>367</td>\n",
       "      <td>80</td>\n",
       "      <td>130</td>\n",
       "      <td>2005-05-24</td>\n",
       "      <td>2005-05-26</td>\n",
       "    </tr>\n",
       "    <tr>\n",
       "      <th>1</th>\n",
       "      <td>2</td>\n",
       "      <td>1525</td>\n",
       "      <td>333</td>\n",
       "      <td>459</td>\n",
       "      <td>2005-05-24</td>\n",
       "      <td>2005-05-28</td>\n",
       "    </tr>\n",
       "  </tbody>\n",
       "</table>\n",
       "</div>"
      ],
      "text/plain": [
       "   rental_id  inventory_id  film_id  customer_id rental_date return_date\n",
       "0          1           367       80          130  2005-05-24  2005-05-26\n",
       "1          2          1525      333          459  2005-05-24  2005-05-28"
      ]
     },
     "execution_count": 52,
     "metadata": {},
     "output_type": "execute_result"
    }
   ],
   "source": [
    "# Merge rental and inventory columns \n",
    "df_rental = pd.merge(df_rental, df_inventory, on=\"inventory_id\", how=\"inner\")\n",
    "\n",
    "# Reorder columns to put primary and foreign keys first \n",
    "col_order = ['rental_id', 'inventory_id',  'film_id', 'customer_id', 'rental_date',\n",
    "       'return_date']\n",
    "df_rental = df_rental[col_order]\n",
    "\n",
    "df_rental.head(2)"
   ]
  },
  {
   "cell_type": "markdown",
   "id": "267e0b95",
   "metadata": {},
   "source": [
    "### Get the Date Dimension Table as a Dataframe"
   ]
  },
  {
   "cell_type": "code",
   "execution_count": 53,
   "id": "1f0c0397",
   "metadata": {},
   "outputs": [
    {
     "data": {
      "text/html": [
       "<div>\n",
       "<style scoped>\n",
       "    .dataframe tbody tr th:only-of-type {\n",
       "        vertical-align: middle;\n",
       "    }\n",
       "\n",
       "    .dataframe tbody tr th {\n",
       "        vertical-align: top;\n",
       "    }\n",
       "\n",
       "    .dataframe thead th {\n",
       "        text-align: right;\n",
       "    }\n",
       "</style>\n",
       "<table border=\"1\" class=\"dataframe\">\n",
       "  <thead>\n",
       "    <tr style=\"text-align: right;\">\n",
       "      <th></th>\n",
       "      <th>date_key</th>\n",
       "      <th>full_date</th>\n",
       "      <th>date_name</th>\n",
       "      <th>date_name_us</th>\n",
       "      <th>date_name_eu</th>\n",
       "      <th>day_of_week</th>\n",
       "      <th>day_name_of_week</th>\n",
       "      <th>day_of_month</th>\n",
       "      <th>day_of_year</th>\n",
       "      <th>weekday_weekend</th>\n",
       "      <th>...</th>\n",
       "      <th>is_last_day_of_month</th>\n",
       "      <th>calendar_quarter</th>\n",
       "      <th>calendar_year</th>\n",
       "      <th>calendar_year_month</th>\n",
       "      <th>calendar_year_qtr</th>\n",
       "      <th>fiscal_month_of_year</th>\n",
       "      <th>fiscal_quarter</th>\n",
       "      <th>fiscal_year</th>\n",
       "      <th>fiscal_year_month</th>\n",
       "      <th>fiscal_year_qtr</th>\n",
       "    </tr>\n",
       "  </thead>\n",
       "  <tbody>\n",
       "    <tr>\n",
       "      <th>0</th>\n",
       "      <td>20000101</td>\n",
       "      <td>2000-01-01</td>\n",
       "      <td>2000/01/01</td>\n",
       "      <td>01/01/2000</td>\n",
       "      <td>01/01/2000</td>\n",
       "      <td>7</td>\n",
       "      <td>Saturday</td>\n",
       "      <td>1</td>\n",
       "      <td>1</td>\n",
       "      <td>Weekend</td>\n",
       "      <td>...</td>\n",
       "      <td>N</td>\n",
       "      <td>1</td>\n",
       "      <td>2000</td>\n",
       "      <td>2000-01</td>\n",
       "      <td>2000Q1</td>\n",
       "      <td>7</td>\n",
       "      <td>3</td>\n",
       "      <td>2000</td>\n",
       "      <td>2000-07</td>\n",
       "      <td>2000Q3</td>\n",
       "    </tr>\n",
       "    <tr>\n",
       "      <th>1</th>\n",
       "      <td>20000102</td>\n",
       "      <td>2000-01-02</td>\n",
       "      <td>2000/01/02</td>\n",
       "      <td>01/02/2000</td>\n",
       "      <td>02/01/2000</td>\n",
       "      <td>1</td>\n",
       "      <td>Sunday</td>\n",
       "      <td>2</td>\n",
       "      <td>2</td>\n",
       "      <td>Weekend</td>\n",
       "      <td>...</td>\n",
       "      <td>N</td>\n",
       "      <td>1</td>\n",
       "      <td>2000</td>\n",
       "      <td>2000-01</td>\n",
       "      <td>2000Q1</td>\n",
       "      <td>7</td>\n",
       "      <td>3</td>\n",
       "      <td>2000</td>\n",
       "      <td>2000-07</td>\n",
       "      <td>2000Q3</td>\n",
       "    </tr>\n",
       "  </tbody>\n",
       "</table>\n",
       "<p>2 rows × 23 columns</p>\n",
       "</div>"
      ],
      "text/plain": [
       "   date_key   full_date   date_name date_name_us date_name_eu  day_of_week  \\\n",
       "0  20000101  2000-01-01  2000/01/01   01/01/2000   01/01/2000            7   \n",
       "1  20000102  2000-01-02  2000/01/02   01/02/2000   02/01/2000            1   \n",
       "\n",
       "  day_name_of_week  day_of_month  day_of_year weekday_weekend  ...  \\\n",
       "0         Saturday             1            1         Weekend  ...   \n",
       "1           Sunday             2            2         Weekend  ...   \n",
       "\n",
       "   is_last_day_of_month calendar_quarter  calendar_year calendar_year_month  \\\n",
       "0                     N                1           2000             2000-01   \n",
       "1                     N                1           2000             2000-01   \n",
       "\n",
       "   calendar_year_qtr  fiscal_month_of_year fiscal_quarter fiscal_year  \\\n",
       "0             2000Q1                     7              3        2000   \n",
       "1             2000Q1                     7              3        2000   \n",
       "\n",
       "   fiscal_year_month  fiscal_year_qtr  \n",
       "0            2000-07           2000Q3  \n",
       "1            2000-07           2000Q3  \n",
       "\n",
       "[2 rows x 23 columns]"
      ]
     },
     "execution_count": 53,
     "metadata": {},
     "output_type": "execute_result"
    }
   ],
   "source": [
    "sql_date = \"SELECT * FROM sakila.dim_date;\"\n",
    "df_date = get_sql_dataframe(sql_date, **mysql_args)\n",
    "df_date.head(2)"
   ]
  },
  {
   "cell_type": "markdown",
   "id": "4759030c",
   "metadata": {},
   "source": [
    "#### Perform Transformations to the date dimension table"
   ]
  },
  {
   "cell_type": "code",
   "execution_count": 54,
   "id": "bdc96903",
   "metadata": {
    "scrolled": false
   },
   "outputs": [
    {
     "data": {
      "text/html": [
       "<div>\n",
       "<style scoped>\n",
       "    .dataframe tbody tr th:only-of-type {\n",
       "        vertical-align: middle;\n",
       "    }\n",
       "\n",
       "    .dataframe tbody tr th {\n",
       "        vertical-align: top;\n",
       "    }\n",
       "\n",
       "    .dataframe thead th {\n",
       "        text-align: right;\n",
       "    }\n",
       "</style>\n",
       "<table border=\"1\" class=\"dataframe\">\n",
       "  <thead>\n",
       "    <tr style=\"text-align: right;\">\n",
       "      <th></th>\n",
       "      <th>date_key</th>\n",
       "      <th>full_date</th>\n",
       "      <th>date_name</th>\n",
       "      <th>date_name_us</th>\n",
       "      <th>date_name_eu</th>\n",
       "      <th>day_of_week</th>\n",
       "      <th>day_name_of_week</th>\n",
       "      <th>day_of_month</th>\n",
       "      <th>month_name</th>\n",
       "      <th>month_of_year</th>\n",
       "      <th>day_of_year</th>\n",
       "      <th>weekday_weekend</th>\n",
       "      <th>fiscal_quarter</th>\n",
       "      <th>fiscal_year_qtr</th>\n",
       "    </tr>\n",
       "  </thead>\n",
       "  <tbody>\n",
       "    <tr>\n",
       "      <th>0</th>\n",
       "      <td>20000101</td>\n",
       "      <td>2000-01-01</td>\n",
       "      <td>2000/01/01</td>\n",
       "      <td>01/01/2000</td>\n",
       "      <td>01/01/2000</td>\n",
       "      <td>7</td>\n",
       "      <td>Saturday</td>\n",
       "      <td>1</td>\n",
       "      <td>January</td>\n",
       "      <td>1</td>\n",
       "      <td>1</td>\n",
       "      <td>Weekend</td>\n",
       "      <td>3</td>\n",
       "      <td>2000Q3</td>\n",
       "    </tr>\n",
       "    <tr>\n",
       "      <th>1</th>\n",
       "      <td>20000102</td>\n",
       "      <td>2000-01-02</td>\n",
       "      <td>2000/01/02</td>\n",
       "      <td>01/02/2000</td>\n",
       "      <td>02/01/2000</td>\n",
       "      <td>1</td>\n",
       "      <td>Sunday</td>\n",
       "      <td>2</td>\n",
       "      <td>January</td>\n",
       "      <td>1</td>\n",
       "      <td>2</td>\n",
       "      <td>Weekend</td>\n",
       "      <td>3</td>\n",
       "      <td>2000Q3</td>\n",
       "    </tr>\n",
       "  </tbody>\n",
       "</table>\n",
       "</div>"
      ],
      "text/plain": [
       "   date_key   full_date   date_name date_name_us date_name_eu  day_of_week  \\\n",
       "0  20000101  2000-01-01  2000/01/01   01/01/2000   01/01/2000            7   \n",
       "1  20000102  2000-01-02  2000/01/02   01/02/2000   02/01/2000            1   \n",
       "\n",
       "  day_name_of_week  day_of_month month_name  month_of_year  day_of_year  \\\n",
       "0         Saturday             1    January              1            1   \n",
       "1           Sunday             2    January              1            2   \n",
       "\n",
       "  weekday_weekend  fiscal_quarter fiscal_year_qtr  \n",
       "0         Weekend               3          2000Q3  \n",
       "1         Weekend               3          2000Q3  "
      ]
     },
     "execution_count": 54,
     "metadata": {},
     "output_type": "execute_result"
    }
   ],
   "source": [
    "# Drop unnecessary columns\n",
    "df_date.drop(['is_last_day_of_month', 'calendar_quarter', 'calendar_year',\n",
    "       'calendar_year_month', 'calendar_year_qtr', 'fiscal_month_of_year', \n",
    "              'fiscal_year', 'fiscal_year_month', 'week_of_year'], \n",
    "            axis=1, inplace=True)\n",
    "\n",
    "# Reorder columns \n",
    "col_order = ['date_key', 'full_date', 'date_name', 'date_name_us', 'date_name_eu',\n",
    "       'day_of_week', 'day_name_of_week', 'day_of_month',  'month_name', 'month_of_year', \n",
    "       'day_of_year','weekday_weekend', 'fiscal_quarter', 'fiscal_year_qtr']\n",
    "\n",
    "df_date = df_date[col_order]\n",
    "df_date.head(2)"
   ]
  },
  {
   "cell_type": "markdown",
   "id": "68fdd785",
   "metadata": {},
   "source": [
    "#### Combine payment and date dimension table"
   ]
  },
  {
   "cell_type": "code",
   "execution_count": 55,
   "id": "63c23e7a",
   "metadata": {
    "scrolled": true
   },
   "outputs": [
    {
     "data": {
      "text/html": [
       "<div>\n",
       "<style scoped>\n",
       "    .dataframe tbody tr th:only-of-type {\n",
       "        vertical-align: middle;\n",
       "    }\n",
       "\n",
       "    .dataframe tbody tr th {\n",
       "        vertical-align: top;\n",
       "    }\n",
       "\n",
       "    .dataframe thead th {\n",
       "        text-align: right;\n",
       "    }\n",
       "</style>\n",
       "<table border=\"1\" class=\"dataframe\">\n",
       "  <thead>\n",
       "    <tr style=\"text-align: right;\">\n",
       "      <th></th>\n",
       "      <th>payment_id</th>\n",
       "      <th>customer_id</th>\n",
       "      <th>staff_id</th>\n",
       "      <th>rental_id</th>\n",
       "      <th>amount</th>\n",
       "      <th>payment_date</th>\n",
       "      <th>date_key</th>\n",
       "      <th>date_name</th>\n",
       "      <th>date_name_us</th>\n",
       "      <th>date_name_eu</th>\n",
       "      <th>day_of_week</th>\n",
       "      <th>day_name_of_week</th>\n",
       "      <th>day_of_month</th>\n",
       "      <th>month_name</th>\n",
       "      <th>month_of_year</th>\n",
       "      <th>day_of_year</th>\n",
       "      <th>weekday_weekend</th>\n",
       "      <th>fiscal_quarter</th>\n",
       "      <th>fiscal_year_qtr</th>\n",
       "    </tr>\n",
       "  </thead>\n",
       "  <tbody>\n",
       "    <tr>\n",
       "      <th>0</th>\n",
       "      <td>1</td>\n",
       "      <td>1</td>\n",
       "      <td>1</td>\n",
       "      <td>76</td>\n",
       "      <td>2.99</td>\n",
       "      <td>2005-05-25</td>\n",
       "      <td>20050525</td>\n",
       "      <td>2005/05/25</td>\n",
       "      <td>05/25/2005</td>\n",
       "      <td>25/05/2005</td>\n",
       "      <td>4</td>\n",
       "      <td>Wednesday</td>\n",
       "      <td>25</td>\n",
       "      <td>May</td>\n",
       "      <td>5</td>\n",
       "      <td>145</td>\n",
       "      <td>Weekday</td>\n",
       "      <td>4</td>\n",
       "      <td>2005Q4</td>\n",
       "    </tr>\n",
       "    <tr>\n",
       "      <th>1</th>\n",
       "      <td>2</td>\n",
       "      <td>1</td>\n",
       "      <td>1</td>\n",
       "      <td>573</td>\n",
       "      <td>0.99</td>\n",
       "      <td>2005-05-28</td>\n",
       "      <td>20050528</td>\n",
       "      <td>2005/05/28</td>\n",
       "      <td>05/28/2005</td>\n",
       "      <td>28/05/2005</td>\n",
       "      <td>7</td>\n",
       "      <td>Saturday</td>\n",
       "      <td>28</td>\n",
       "      <td>May</td>\n",
       "      <td>5</td>\n",
       "      <td>148</td>\n",
       "      <td>Weekend</td>\n",
       "      <td>4</td>\n",
       "      <td>2005Q4</td>\n",
       "    </tr>\n",
       "  </tbody>\n",
       "</table>\n",
       "</div>"
      ],
      "text/plain": [
       "   payment_id  customer_id  staff_id  rental_id  amount payment_date  \\\n",
       "0           1            1         1         76    2.99   2005-05-25   \n",
       "1           2            1         1        573    0.99   2005-05-28   \n",
       "\n",
       "   date_key   date_name date_name_us date_name_eu  day_of_week  \\\n",
       "0  20050525  2005/05/25   05/25/2005   25/05/2005            4   \n",
       "1  20050528  2005/05/28   05/28/2005   28/05/2005            7   \n",
       "\n",
       "  day_name_of_week  day_of_month month_name  month_of_year  day_of_year  \\\n",
       "0        Wednesday            25        May              5          145   \n",
       "1         Saturday            28        May              5          148   \n",
       "\n",
       "  weekday_weekend  fiscal_quarter fiscal_year_qtr  \n",
       "0         Weekday               4          2005Q4  \n",
       "1         Weekend               4          2005Q4  "
      ]
     },
     "execution_count": 55,
     "metadata": {},
     "output_type": "execute_result"
    }
   ],
   "source": [
    "# Rename full_date column \n",
    "df_date = df_date.rename(columns={\"full_date\": \"payment_date\"})\n",
    "# df_date.head(2)\n",
    "# Merge payment and date tables \n",
    "df_payment = pd.merge(df_payment, df_date, on=\"payment_date\", how=\"left\")\n",
    "df_payment.head(2)"
   ]
  },
  {
   "cell_type": "markdown",
   "id": "df6f3a14",
   "metadata": {},
   "source": [
    "### Load Fact Tables into Destination Database (sakila_db)"
   ]
  },
  {
   "cell_type": "code",
   "execution_count": 56,
   "id": "7510bf76",
   "metadata": {},
   "outputs": [],
   "source": [
    "db_operation = \"insert\"\n",
    "\n",
    "tables = [('fact_rental', df_rental, 'rental_id'), \n",
    "          ('fact_payment', df_payment, 'payment_id')]\n",
    "\n",
    "for table_name, dataframe, primary_key in tables:\n",
    "    set_dataframe(user_id, pwd, host_name, dst_dbname, dataframe, table_name, primary_key, db_operation)"
   ]
  },
  {
   "cell_type": "markdown",
   "id": "00a29d9d",
   "metadata": {},
   "source": [
    "## Test SQL Queries to Demonstrate Functionality"
   ]
  },
  {
   "cell_type": "code",
   "execution_count": 57,
   "id": "d9955547",
   "metadata": {},
   "outputs": [
    {
     "data": {
      "text/html": [
       "<div>\n",
       "<style scoped>\n",
       "    .dataframe tbody tr th:only-of-type {\n",
       "        vertical-align: middle;\n",
       "    }\n",
       "\n",
       "    .dataframe tbody tr th {\n",
       "        vertical-align: top;\n",
       "    }\n",
       "\n",
       "    .dataframe thead th {\n",
       "        text-align: right;\n",
       "    }\n",
       "</style>\n",
       "<table border=\"1\" class=\"dataframe\">\n",
       "  <thead>\n",
       "    <tr style=\"text-align: right;\">\n",
       "      <th></th>\n",
       "      <th>customer_id</th>\n",
       "      <th>store_id</th>\n",
       "      <th>first_name</th>\n",
       "      <th>last_name</th>\n",
       "      <th>email</th>\n",
       "      <th>address_id</th>\n",
       "      <th>active</th>\n",
       "    </tr>\n",
       "  </thead>\n",
       "  <tbody>\n",
       "    <tr>\n",
       "      <th>0</th>\n",
       "      <td>1</td>\n",
       "      <td>1</td>\n",
       "      <td>MARY</td>\n",
       "      <td>SMITH</td>\n",
       "      <td>MARY.SMITH@sakilacustomer.org</td>\n",
       "      <td>5</td>\n",
       "      <td>1</td>\n",
       "    </tr>\n",
       "    <tr>\n",
       "      <th>1</th>\n",
       "      <td>2</td>\n",
       "      <td>1</td>\n",
       "      <td>PATRICIA</td>\n",
       "      <td>JOHNSON</td>\n",
       "      <td>PATRICIA.JOHNSON@sakilacustomer.org</td>\n",
       "      <td>6</td>\n",
       "      <td>1</td>\n",
       "    </tr>\n",
       "  </tbody>\n",
       "</table>\n",
       "</div>"
      ],
      "text/plain": [
       "   customer_id  store_id first_name last_name  \\\n",
       "0            1         1       MARY     SMITH   \n",
       "1            2         1   PATRICIA   JOHNSON   \n",
       "\n",
       "                                 email  address_id  active  \n",
       "0        MARY.SMITH@sakilacustomer.org           5       1  \n",
       "1  PATRICIA.JOHNSON@sakilacustomer.org           6       1  "
      ]
     },
     "execution_count": 57,
     "metadata": {},
     "output_type": "execute_result"
    }
   ],
   "source": [
    "sql_customer = \"SELECT * FROM sakila_db.dim_customer;\"\n",
    "df_dim_customer = get_sql_dataframe(sql_customer, **mysql_args)\n",
    "df_dim_customer.head(2)"
   ]
  },
  {
   "cell_type": "code",
   "execution_count": 58,
   "id": "ad5cd27c",
   "metadata": {},
   "outputs": [
    {
     "data": {
      "text/html": [
       "<div>\n",
       "<style scoped>\n",
       "    .dataframe tbody tr th:only-of-type {\n",
       "        vertical-align: middle;\n",
       "    }\n",
       "\n",
       "    .dataframe tbody tr th {\n",
       "        vertical-align: top;\n",
       "    }\n",
       "\n",
       "    .dataframe thead th {\n",
       "        text-align: right;\n",
       "    }\n",
       "</style>\n",
       "<table border=\"1\" class=\"dataframe\">\n",
       "  <thead>\n",
       "    <tr style=\"text-align: right;\">\n",
       "      <th></th>\n",
       "      <th>address_id</th>\n",
       "      <th>city_id</th>\n",
       "      <th>country_id</th>\n",
       "      <th>address</th>\n",
       "      <th>address2</th>\n",
       "      <th>district</th>\n",
       "      <th>city</th>\n",
       "      <th>country</th>\n",
       "    </tr>\n",
       "  </thead>\n",
       "  <tbody>\n",
       "    <tr>\n",
       "      <th>0</th>\n",
       "      <td>1</td>\n",
       "      <td>300</td>\n",
       "      <td>20</td>\n",
       "      <td>47 MySakila Drive</td>\n",
       "      <td>None</td>\n",
       "      <td>Alberta</td>\n",
       "      <td>Lethbridge</td>\n",
       "      <td>Canada</td>\n",
       "    </tr>\n",
       "    <tr>\n",
       "      <th>1</th>\n",
       "      <td>2</td>\n",
       "      <td>576</td>\n",
       "      <td>8</td>\n",
       "      <td>28 MySQL Boulevard</td>\n",
       "      <td>None</td>\n",
       "      <td>QLD</td>\n",
       "      <td>Woodridge</td>\n",
       "      <td>Australia</td>\n",
       "    </tr>\n",
       "  </tbody>\n",
       "</table>\n",
       "</div>"
      ],
      "text/plain": [
       "   address_id  city_id  country_id             address address2 district  \\\n",
       "0           1      300          20   47 MySakila Drive     None  Alberta   \n",
       "1           2      576           8  28 MySQL Boulevard     None      QLD   \n",
       "\n",
       "         city    country  \n",
       "0  Lethbridge     Canada  \n",
       "1   Woodridge  Australia  "
      ]
     },
     "execution_count": 58,
     "metadata": {},
     "output_type": "execute_result"
    }
   ],
   "source": [
    "sql_address = \"SELECT * FROM sakila_db.dim_address;\"\n",
    "df_dim_address = get_sql_dataframe(sql_address, **mysql_args)\n",
    "df_dim_address.head(2)"
   ]
  },
  {
   "cell_type": "code",
   "execution_count": 59,
   "id": "34a21e1e",
   "metadata": {},
   "outputs": [
    {
     "data": {
      "text/html": [
       "<div>\n",
       "<style scoped>\n",
       "    .dataframe tbody tr th:only-of-type {\n",
       "        vertical-align: middle;\n",
       "    }\n",
       "\n",
       "    .dataframe tbody tr th {\n",
       "        vertical-align: top;\n",
       "    }\n",
       "\n",
       "    .dataframe thead th {\n",
       "        text-align: right;\n",
       "    }\n",
       "</style>\n",
       "<table border=\"1\" class=\"dataframe\">\n",
       "  <thead>\n",
       "    <tr style=\"text-align: right;\">\n",
       "      <th></th>\n",
       "      <th>payment_id</th>\n",
       "      <th>customer_id</th>\n",
       "      <th>staff_id</th>\n",
       "      <th>rental_id</th>\n",
       "      <th>amount</th>\n",
       "      <th>payment_date</th>\n",
       "      <th>date_key</th>\n",
       "      <th>date_name</th>\n",
       "      <th>date_name_us</th>\n",
       "      <th>date_name_eu</th>\n",
       "      <th>day_of_week</th>\n",
       "      <th>day_name_of_week</th>\n",
       "      <th>day_of_month</th>\n",
       "      <th>month_name</th>\n",
       "      <th>month_of_year</th>\n",
       "      <th>day_of_year</th>\n",
       "      <th>weekday_weekend</th>\n",
       "      <th>fiscal_quarter</th>\n",
       "      <th>fiscal_year_qtr</th>\n",
       "    </tr>\n",
       "  </thead>\n",
       "  <tbody>\n",
       "    <tr>\n",
       "      <th>0</th>\n",
       "      <td>1</td>\n",
       "      <td>1</td>\n",
       "      <td>1</td>\n",
       "      <td>76</td>\n",
       "      <td>2.99</td>\n",
       "      <td>2005-05-25</td>\n",
       "      <td>20050525</td>\n",
       "      <td>2005/05/25</td>\n",
       "      <td>05/25/2005</td>\n",
       "      <td>25/05/2005</td>\n",
       "      <td>4</td>\n",
       "      <td>Wednesday</td>\n",
       "      <td>25</td>\n",
       "      <td>May</td>\n",
       "      <td>5</td>\n",
       "      <td>145</td>\n",
       "      <td>Weekday</td>\n",
       "      <td>4</td>\n",
       "      <td>2005Q4</td>\n",
       "    </tr>\n",
       "    <tr>\n",
       "      <th>1</th>\n",
       "      <td>2</td>\n",
       "      <td>1</td>\n",
       "      <td>1</td>\n",
       "      <td>573</td>\n",
       "      <td>0.99</td>\n",
       "      <td>2005-05-28</td>\n",
       "      <td>20050528</td>\n",
       "      <td>2005/05/28</td>\n",
       "      <td>05/28/2005</td>\n",
       "      <td>28/05/2005</td>\n",
       "      <td>7</td>\n",
       "      <td>Saturday</td>\n",
       "      <td>28</td>\n",
       "      <td>May</td>\n",
       "      <td>5</td>\n",
       "      <td>148</td>\n",
       "      <td>Weekend</td>\n",
       "      <td>4</td>\n",
       "      <td>2005Q4</td>\n",
       "    </tr>\n",
       "  </tbody>\n",
       "</table>\n",
       "</div>"
      ],
      "text/plain": [
       "   payment_id  customer_id  staff_id  rental_id  amount payment_date  \\\n",
       "0           1            1         1         76    2.99   2005-05-25   \n",
       "1           2            1         1        573    0.99   2005-05-28   \n",
       "\n",
       "   date_key   date_name date_name_us date_name_eu  day_of_week  \\\n",
       "0  20050525  2005/05/25   05/25/2005   25/05/2005            4   \n",
       "1  20050528  2005/05/28   05/28/2005   28/05/2005            7   \n",
       "\n",
       "  day_name_of_week  day_of_month month_name  month_of_year  day_of_year  \\\n",
       "0        Wednesday            25        May              5          145   \n",
       "1         Saturday            28        May              5          148   \n",
       "\n",
       "  weekday_weekend  fiscal_quarter fiscal_year_qtr  \n",
       "0         Weekday               4          2005Q4  \n",
       "1         Weekend               4          2005Q4  "
      ]
     },
     "execution_count": 59,
     "metadata": {},
     "output_type": "execute_result"
    }
   ],
   "source": [
    "sql_payment = \"SELECT * FROM sakila_db.fact_payment;\"\n",
    "df_fact_payment = get_sql_dataframe(sql_payment, **mysql_args)\n",
    "df_fact_payment.head(2)"
   ]
  },
  {
   "cell_type": "code",
   "execution_count": 61,
   "id": "1b485d4f",
   "metadata": {},
   "outputs": [
    {
     "data": {
      "text/html": [
       "<div>\n",
       "<style scoped>\n",
       "    .dataframe tbody tr th:only-of-type {\n",
       "        vertical-align: middle;\n",
       "    }\n",
       "\n",
       "    .dataframe tbody tr th {\n",
       "        vertical-align: top;\n",
       "    }\n",
       "\n",
       "    .dataframe thead th {\n",
       "        text-align: right;\n",
       "    }\n",
       "</style>\n",
       "<table border=\"1\" class=\"dataframe\">\n",
       "  <thead>\n",
       "    <tr style=\"text-align: right;\">\n",
       "      <th></th>\n",
       "      <th>payment_date</th>\n",
       "      <th>amount</th>\n",
       "      <th>full_name</th>\n",
       "      <th>address</th>\n",
       "    </tr>\n",
       "  </thead>\n",
       "  <tbody>\n",
       "    <tr>\n",
       "      <th>0</th>\n",
       "      <td>2006-02-14</td>\n",
       "      <td>3.98</td>\n",
       "      <td>MIGUEL BETANCOURT</td>\n",
       "      <td>319 Springs Loop</td>\n",
       "    </tr>\n",
       "    <tr>\n",
       "      <th>1</th>\n",
       "      <td>2006-02-14</td>\n",
       "      <td>0.00</td>\n",
       "      <td>MIGUEL BETANCOURT</td>\n",
       "      <td>319 Springs Loop</td>\n",
       "    </tr>\n",
       "    <tr>\n",
       "      <th>2</th>\n",
       "      <td>2006-02-14</td>\n",
       "      <td>0.99</td>\n",
       "      <td>JAY ROBB</td>\n",
       "      <td>1947 Paarl Way</td>\n",
       "    </tr>\n",
       "    <tr>\n",
       "      <th>3</th>\n",
       "      <td>2006-02-14</td>\n",
       "      <td>4.99</td>\n",
       "      <td>TOM MILNER</td>\n",
       "      <td>535 Ahmadnagar Manor</td>\n",
       "    </tr>\n",
       "    <tr>\n",
       "      <th>4</th>\n",
       "      <td>2006-02-14</td>\n",
       "      <td>3.98</td>\n",
       "      <td>BILL GAVIN</td>\n",
       "      <td>1485 Bratislava Place</td>\n",
       "    </tr>\n",
       "    <tr>\n",
       "      <th>5</th>\n",
       "      <td>2006-02-14</td>\n",
       "      <td>0.00</td>\n",
       "      <td>BILL GAVIN</td>\n",
       "      <td>1485 Bratislava Place</td>\n",
       "    </tr>\n",
       "    <tr>\n",
       "      <th>6</th>\n",
       "      <td>2006-02-14</td>\n",
       "      <td>4.99</td>\n",
       "      <td>GREG ROBINS</td>\n",
       "      <td>1786 Salinas Place</td>\n",
       "    </tr>\n",
       "    <tr>\n",
       "      <th>7</th>\n",
       "      <td>2006-02-14</td>\n",
       "      <td>0.99</td>\n",
       "      <td>DUSTIN GILLETTE</td>\n",
       "      <td>1854 Okara Boulevard</td>\n",
       "    </tr>\n",
       "    <tr>\n",
       "      <th>8</th>\n",
       "      <td>2006-02-14</td>\n",
       "      <td>0.99</td>\n",
       "      <td>DERRICK BOURQUE</td>\n",
       "      <td>1153 Allende Way</td>\n",
       "    </tr>\n",
       "    <tr>\n",
       "      <th>9</th>\n",
       "      <td>2006-02-14</td>\n",
       "      <td>0.99</td>\n",
       "      <td>ZACHARY HITE</td>\n",
       "      <td>98 Pyongyang Boulevard</td>\n",
       "    </tr>\n",
       "  </tbody>\n",
       "</table>\n",
       "</div>"
      ],
      "text/plain": [
       "  payment_date  amount          full_name                 address\n",
       "0   2006-02-14    3.98  MIGUEL BETANCOURT        319 Springs Loop\n",
       "1   2006-02-14    0.00  MIGUEL BETANCOURT        319 Springs Loop\n",
       "2   2006-02-14    0.99           JAY ROBB          1947 Paarl Way\n",
       "3   2006-02-14    4.99         TOM MILNER    535 Ahmadnagar Manor\n",
       "4   2006-02-14    3.98         BILL GAVIN   1485 Bratislava Place\n",
       "5   2006-02-14    0.00         BILL GAVIN   1485 Bratislava Place\n",
       "6   2006-02-14    4.99        GREG ROBINS      1786 Salinas Place\n",
       "7   2006-02-14    0.99    DUSTIN GILLETTE    1854 Okara Boulevard\n",
       "8   2006-02-14    0.99    DERRICK BOURQUE        1153 Allende Way\n",
       "9   2006-02-14    0.99       ZACHARY HITE  98 Pyongyang Boulevard"
      ]
     },
     "execution_count": 61,
     "metadata": {},
     "output_type": "execute_result"
    }
   ],
   "source": [
    "# Gets the date of the 10 most recent movie rentals: full name of customers \n",
    "# who rented them, their addresses, the payment/rental date, and the amount  \n",
    "\n",
    "query1 = \"\"\"SELECT\n",
    "                fp.payment_date, \n",
    "                fp.amount, \n",
    "                CONCAT(dc.first_name, ' ', dc.last_name) AS full_name, \n",
    "                da.address\n",
    "            FROM \n",
    "                fact_payment AS fp\n",
    "            JOIN \n",
    "                dim_customer AS dc ON fp.customer_id = dc.customer_id\n",
    "            JOIN \n",
    "                dim_address AS da ON dc.address_id = da.address_id\n",
    "            ORDER BY \n",
    "                fp.payment_date DESC\n",
    "            LIMIT 10;\"\"\"\n",
    "\n",
    "query1_result = get_sql_dataframe(query1, **mysql_args_test)\n",
    "query1_result"
   ]
  },
  {
   "cell_type": "code",
   "execution_count": 62,
   "id": "1078ea8c",
   "metadata": {},
   "outputs": [
    {
     "data": {
      "text/html": [
       "<div>\n",
       "<style scoped>\n",
       "    .dataframe tbody tr th:only-of-type {\n",
       "        vertical-align: middle;\n",
       "    }\n",
       "\n",
       "    .dataframe tbody tr th {\n",
       "        vertical-align: top;\n",
       "    }\n",
       "\n",
       "    .dataframe thead th {\n",
       "        text-align: right;\n",
       "    }\n",
       "</style>\n",
       "<table border=\"1\" class=\"dataframe\">\n",
       "  <thead>\n",
       "    <tr style=\"text-align: right;\">\n",
       "      <th></th>\n",
       "      <th>title</th>\n",
       "      <th>actor_name</th>\n",
       "      <th>rental_count</th>\n",
       "    </tr>\n",
       "  </thead>\n",
       "  <tbody>\n",
       "    <tr>\n",
       "      <th>0</th>\n",
       "      <td>BUCKET BROTHERHOOD</td>\n",
       "      <td>RIP CRAWFORD</td>\n",
       "      <td>34</td>\n",
       "    </tr>\n",
       "    <tr>\n",
       "      <th>1</th>\n",
       "      <td>ROCKETEER MOTHER</td>\n",
       "      <td>JUDY DEAN</td>\n",
       "      <td>33</td>\n",
       "    </tr>\n",
       "    <tr>\n",
       "      <th>2</th>\n",
       "      <td>RIDGEMONT SUBMARINE</td>\n",
       "      <td>JOHNNY LOLLOBRIGIDA</td>\n",
       "      <td>32</td>\n",
       "    </tr>\n",
       "    <tr>\n",
       "      <th>3</th>\n",
       "      <td>JUGGLER HARDLY</td>\n",
       "      <td>MILLA PECK</td>\n",
       "      <td>32</td>\n",
       "    </tr>\n",
       "    <tr>\n",
       "      <th>4</th>\n",
       "      <td>FORWARD TEMPLE</td>\n",
       "      <td>RIP WINSLET</td>\n",
       "      <td>32</td>\n",
       "    </tr>\n",
       "    <tr>\n",
       "      <th>5</th>\n",
       "      <td>SCALAWAG DUCK</td>\n",
       "      <td>REESE KILMER</td>\n",
       "      <td>32</td>\n",
       "    </tr>\n",
       "    <tr>\n",
       "      <th>6</th>\n",
       "      <td>GRIT CLOCKWORK</td>\n",
       "      <td>CAMERON ZELLWEGER</td>\n",
       "      <td>32</td>\n",
       "    </tr>\n",
       "    <tr>\n",
       "      <th>7</th>\n",
       "      <td>APACHE DIVINE</td>\n",
       "      <td>NICK WAHLBERG</td>\n",
       "      <td>31</td>\n",
       "    </tr>\n",
       "    <tr>\n",
       "      <th>8</th>\n",
       "      <td>NETWORK PEAK</td>\n",
       "      <td>KIRK JOVOVICH</td>\n",
       "      <td>31</td>\n",
       "    </tr>\n",
       "    <tr>\n",
       "      <th>9</th>\n",
       "      <td>WIFE TURN</td>\n",
       "      <td>WOODY HOFFMAN</td>\n",
       "      <td>31</td>\n",
       "    </tr>\n",
       "  </tbody>\n",
       "</table>\n",
       "</div>"
      ],
      "text/plain": [
       "                 title           actor_name  rental_count\n",
       "0   BUCKET BROTHERHOOD         RIP CRAWFORD            34\n",
       "1     ROCKETEER MOTHER            JUDY DEAN            33\n",
       "2  RIDGEMONT SUBMARINE  JOHNNY LOLLOBRIGIDA            32\n",
       "3       JUGGLER HARDLY           MILLA PECK            32\n",
       "4       FORWARD TEMPLE          RIP WINSLET            32\n",
       "5        SCALAWAG DUCK         REESE KILMER            32\n",
       "6       GRIT CLOCKWORK    CAMERON ZELLWEGER            32\n",
       "7        APACHE DIVINE        NICK WAHLBERG            31\n",
       "8         NETWORK PEAK        KIRK JOVOVICH            31\n",
       "9            WIFE TURN        WOODY HOFFMAN            31"
      ]
     },
     "execution_count": 62,
     "metadata": {},
     "output_type": "execute_result"
    }
   ],
   "source": [
    "# Gets the 10 most popular movies (movies rented the most times) \n",
    "# and the names of the actors that star in them \n",
    "\n",
    "query2 = \"\"\"\n",
    "    SELECT\n",
    "        df.title, \n",
    "        CONCAT(da.first_name, ' ', da.last_name) AS actor_name, \n",
    "        COUNT(fr.film_id) AS rental_count\n",
    "    FROM \n",
    "        fact_rental AS fr\n",
    "    JOIN \n",
    "        dim_film AS df ON fr.film_id = df.film_id\n",
    "    JOIN \n",
    "        dim_actor AS da ON df.actor_id = da.actor_id\n",
    "    GROUP BY \n",
    "        df.title, da.first_name, da.last_name\n",
    "    ORDER BY \n",
    "        rental_count DESC\n",
    "    LIMIT 10;\n",
    "\"\"\"\n",
    "\n",
    "query2_result = get_sql_dataframe(query2, **mysql_args_test)\n",
    "query2_result"
   ]
  }
 ],
 "metadata": {
  "kernelspec": {
   "display_name": "base",
   "language": "python",
   "name": "base"
  },
  "language_info": {
   "codemirror_mode": {
    "name": "ipython",
    "version": 3
   },
   "file_extension": ".py",
   "mimetype": "text/x-python",
   "name": "python",
   "nbconvert_exporter": "python",
   "pygments_lexer": "ipython3",
   "version": "3.12.2"
  }
 },
 "nbformat": 4,
 "nbformat_minor": 5
}
